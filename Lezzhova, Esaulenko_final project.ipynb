{
 "cells": [
  {
   "cell_type": "markdown",
   "metadata": {},
   "source": [
    "# Analysis of results of standartized language test Korablik (typically developing population)"
   ]
  },
  {
   "cell_type": "markdown",
   "metadata": {},
   "source": [
    "Valeriia Lezzhova, Asya Esaulenko"
   ]
  },
  {
   "cell_type": "markdown",
   "metadata": {},
   "source": [
    "Methods\n",
    "\n",
    "Korablik is a standartized language test for children of 3-7 years old, which evaluates child's language abilities in speech comprehension and production. Test includes 11 subtests: Nouns Comprehension, Verbs Comprehension, Syntax Comprehension, Nonwords Comprehension, Discourse Comprehension, Nonwords repetition, Nouns Production, Verbs Production, Syntax Production, Sentence Repetition and Discource prosuctions. All subtests have scores, which allows quantitative analysis, which we will conduct in this project. \n",
    "\n",
    "Our data icludes total of 209 typically developing children. We decided to go with healthy children (without taking clinical group into analysis) because the data is much more numerous, while data for clinical group is not enough at all for any statistical analysis (~10).\n",
    "\n",
    "Project consists of 2 parts:\n",
    "1. Analysis of first 10 subtests;\n",
    "2. Analysis of Discource production subtest. \n",
    "\n",
    "(it is that way, since data for the last suntest is not fully scored yet, therefore it is not in the official table)\n",
    "\n"
   ]
  },
  {
   "cell_type": "code",
   "execution_count": 54,
   "metadata": {},
   "outputs": [],
   "source": [
    "import pandas as pd\n",
    "import csv\n",
    "import sqlite3\n",
    "import numpy as np\n",
    "import matplotlib.pyplot as plt\n",
    "%matplotlib inline\n",
    "import seaborn as sns"
   ]
  },
  {
   "cell_type": "markdown",
   "metadata": {},
   "source": [
    "Part 1:"
   ]
  },
  {
   "cell_type": "markdown",
   "metadata": {},
   "source": [
    "First we upload all our tables (we have separate tables for each age group). We then merge them all together through SQL. We use SQL besause later we will need it to make several queries to check our data. "
   ]
  },
  {
   "cell_type": "code",
   "execution_count": 56,
   "metadata": {},
   "outputs": [
    {
     "data": {
      "text/html": [
       "<div>\n",
       "<style scoped>\n",
       "    .dataframe tbody tr th:only-of-type {\n",
       "        vertical-align: middle;\n",
       "    }\n",
       "\n",
       "    .dataframe tbody tr th {\n",
       "        vertical-align: top;\n",
       "    }\n",
       "\n",
       "    .dataframe thead th {\n",
       "        text-align: right;\n",
       "    }\n",
       "</style>\n",
       "<table border=\"1\" class=\"dataframe\">\n",
       "  <thead>\n",
       "    <tr style=\"text-align: right;\">\n",
       "      <th></th>\n",
       "      <th>Age</th>\n",
       "      <th>Gender</th>\n",
       "      <th>ID</th>\n",
       "      <th>Nouns_Comprehension</th>\n",
       "      <th>Verbs_Comprehension</th>\n",
       "      <th>Syntax_Comprehension</th>\n",
       "      <th>Nonwords_Comprehension</th>\n",
       "      <th>Discource_Comprehension</th>\n",
       "      <th>Nonwords_Repetition</th>\n",
       "      <th>Nouns_Production</th>\n",
       "      <th>Verbs_Production</th>\n",
       "      <th>Syntax_Production</th>\n",
       "      <th>Syntax_Repetition</th>\n",
       "    </tr>\n",
       "  </thead>\n",
       "  <tbody>\n",
       "    <tr>\n",
       "      <th>0</th>\n",
       "      <td>3</td>\n",
       "      <td>m</td>\n",
       "      <td>N312</td>\n",
       "      <td>50</td>\n",
       "      <td>38</td>\n",
       "      <td>54.0</td>\n",
       "      <td>46.0</td>\n",
       "      <td>63.0</td>\n",
       "      <td>94.0</td>\n",
       "      <td>42.0</td>\n",
       "      <td>13.0</td>\n",
       "      <td>81.0</td>\n",
       "      <td>62.0</td>\n",
       "    </tr>\n",
       "    <tr>\n",
       "      <th>1</th>\n",
       "      <td>3</td>\n",
       "      <td>f</td>\n",
       "      <td>N313</td>\n",
       "      <td>88</td>\n",
       "      <td>79</td>\n",
       "      <td>67.0</td>\n",
       "      <td>50.0</td>\n",
       "      <td>69.0</td>\n",
       "      <td>96.0</td>\n",
       "      <td>71.0</td>\n",
       "      <td>46.0</td>\n",
       "      <td>85.0</td>\n",
       "      <td>60.0</td>\n",
       "    </tr>\n",
       "    <tr>\n",
       "      <th>2</th>\n",
       "      <td>3</td>\n",
       "      <td>f</td>\n",
       "      <td>N336</td>\n",
       "      <td>63</td>\n",
       "      <td>79</td>\n",
       "      <td>50.0</td>\n",
       "      <td>NaN</td>\n",
       "      <td>63.0</td>\n",
       "      <td>90.0</td>\n",
       "      <td>46.0</td>\n",
       "      <td>63.0</td>\n",
       "      <td>10.0</td>\n",
       "      <td>NaN</td>\n",
       "    </tr>\n",
       "    <tr>\n",
       "      <th>3</th>\n",
       "      <td>3</td>\n",
       "      <td>m</td>\n",
       "      <td>N361</td>\n",
       "      <td>83</td>\n",
       "      <td>92</td>\n",
       "      <td>79.0</td>\n",
       "      <td>100.0</td>\n",
       "      <td>NaN</td>\n",
       "      <td>98.0</td>\n",
       "      <td>54.0</td>\n",
       "      <td>88.0</td>\n",
       "      <td>88.0</td>\n",
       "      <td>83.0</td>\n",
       "    </tr>\n",
       "    <tr>\n",
       "      <th>4</th>\n",
       "      <td>3</td>\n",
       "      <td>f</td>\n",
       "      <td>N803</td>\n",
       "      <td>58</td>\n",
       "      <td>50</td>\n",
       "      <td>33.0</td>\n",
       "      <td>88.0</td>\n",
       "      <td>19.0</td>\n",
       "      <td>71.0</td>\n",
       "      <td>42.0</td>\n",
       "      <td>21.0</td>\n",
       "      <td>23.0</td>\n",
       "      <td>NaN</td>\n",
       "    </tr>\n",
       "  </tbody>\n",
       "</table>\n",
       "</div>"
      ],
      "text/plain": [
       "   Age Gender    ID  Nouns_Comprehension  Verbs_Comprehension  \\\n",
       "0    3      m  N312                   50                   38   \n",
       "1    3      f  N313                   88                   79   \n",
       "2    3      f  N336                   63                   79   \n",
       "3    3      m  N361                   83                   92   \n",
       "4    3      f  N803                   58                   50   \n",
       "\n",
       "   Syntax_Comprehension  Nonwords_Comprehension  Discource_Comprehension  \\\n",
       "0                  54.0                    46.0                     63.0   \n",
       "1                  67.0                    50.0                     69.0   \n",
       "2                  50.0                     NaN                     63.0   \n",
       "3                  79.0                   100.0                      NaN   \n",
       "4                  33.0                    88.0                     19.0   \n",
       "\n",
       "   Nonwords_Repetition  Nouns_Production  Verbs_Production  Syntax_Production  \\\n",
       "0                 94.0              42.0              13.0               81.0   \n",
       "1                 96.0              71.0              46.0               85.0   \n",
       "2                 90.0              46.0              63.0               10.0   \n",
       "3                 98.0              54.0              88.0               88.0   \n",
       "4                 71.0              42.0              21.0               23.0   \n",
       "\n",
       "   Syntax_Repetition  \n",
       "0               62.0  \n",
       "1               60.0  \n",
       "2                NaN  \n",
       "3               83.0  \n",
       "4                NaN  "
      ]
     },
     "execution_count": 56,
     "metadata": {},
     "output_type": "execute_result"
    }
   ],
   "source": [
    "read_file3 = pd.read_excel (r'D:\\Qmet_project\\Python\\Controls_all.xlsx', sheet_name=0)\n",
    "Controls_csv3 = read_file3.to_csv (r'D:\\Qmet_project\\Python\\Controls_all.csv', index = None, header=True)\n",
    "\n",
    "df_Controls3 = pd.read_csv('D:\\Qmet_project\\Python\\Controls_all.csv', sep=',', encoding='utf-8')\n",
    "df_Controls3.head()"
   ]
  },
  {
   "cell_type": "code",
   "execution_count": 57,
   "metadata": {},
   "outputs": [
    {
     "data": {
      "text/html": [
       "<div>\n",
       "<style scoped>\n",
       "    .dataframe tbody tr th:only-of-type {\n",
       "        vertical-align: middle;\n",
       "    }\n",
       "\n",
       "    .dataframe tbody tr th {\n",
       "        vertical-align: top;\n",
       "    }\n",
       "\n",
       "    .dataframe thead th {\n",
       "        text-align: right;\n",
       "    }\n",
       "</style>\n",
       "<table border=\"1\" class=\"dataframe\">\n",
       "  <thead>\n",
       "    <tr style=\"text-align: right;\">\n",
       "      <th></th>\n",
       "      <th>Age</th>\n",
       "      <th>Gender</th>\n",
       "      <th>ID</th>\n",
       "      <th>Nouns_Comprehension</th>\n",
       "      <th>Verbs_Comprehension</th>\n",
       "      <th>Syntax_Comprehension</th>\n",
       "      <th>Nonwords_Comprehension</th>\n",
       "      <th>Discource_Comprehension</th>\n",
       "      <th>Nonwords_Repetition</th>\n",
       "      <th>Nouns_Production</th>\n",
       "      <th>Verbs_Production</th>\n",
       "      <th>Syntax_Production</th>\n",
       "      <th>Syntax_Repetition</th>\n",
       "    </tr>\n",
       "  </thead>\n",
       "  <tbody>\n",
       "    <tr>\n",
       "      <th>0</th>\n",
       "      <td>4</td>\n",
       "      <td>m</td>\n",
       "      <td>N304</td>\n",
       "      <td>83</td>\n",
       "      <td>96.0</td>\n",
       "      <td>71.0</td>\n",
       "      <td>88.0</td>\n",
       "      <td>56.0</td>\n",
       "      <td>83.0</td>\n",
       "      <td>75</td>\n",
       "      <td>63.0</td>\n",
       "      <td>94.0</td>\n",
       "      <td>85.0</td>\n",
       "    </tr>\n",
       "    <tr>\n",
       "      <th>1</th>\n",
       "      <td>4</td>\n",
       "      <td>f</td>\n",
       "      <td>N309</td>\n",
       "      <td>96</td>\n",
       "      <td>96.0</td>\n",
       "      <td>79.0</td>\n",
       "      <td>92.0</td>\n",
       "      <td>81.0</td>\n",
       "      <td>92.0</td>\n",
       "      <td>83</td>\n",
       "      <td>75.0</td>\n",
       "      <td>79.0</td>\n",
       "      <td>87.0</td>\n",
       "    </tr>\n",
       "    <tr>\n",
       "      <th>2</th>\n",
       "      <td>4</td>\n",
       "      <td>m</td>\n",
       "      <td>N702</td>\n",
       "      <td>67</td>\n",
       "      <td>75.0</td>\n",
       "      <td>75.0</td>\n",
       "      <td>83.0</td>\n",
       "      <td>63.0</td>\n",
       "      <td>88.0</td>\n",
       "      <td>50</td>\n",
       "      <td>59.0</td>\n",
       "      <td>85.0</td>\n",
       "      <td>63.0</td>\n",
       "    </tr>\n",
       "    <tr>\n",
       "      <th>3</th>\n",
       "      <td>4</td>\n",
       "      <td>f</td>\n",
       "      <td>N704</td>\n",
       "      <td>83</td>\n",
       "      <td>58.0</td>\n",
       "      <td>83.0</td>\n",
       "      <td>88.0</td>\n",
       "      <td>50.0</td>\n",
       "      <td>73.0</td>\n",
       "      <td>71</td>\n",
       "      <td>59.0</td>\n",
       "      <td>94.0</td>\n",
       "      <td>97.0</td>\n",
       "    </tr>\n",
       "    <tr>\n",
       "      <th>4</th>\n",
       "      <td>4</td>\n",
       "      <td>m</td>\n",
       "      <td>N339</td>\n",
       "      <td>79</td>\n",
       "      <td>67.0</td>\n",
       "      <td>71.0</td>\n",
       "      <td>17.0</td>\n",
       "      <td>50.0</td>\n",
       "      <td>90.0</td>\n",
       "      <td>54</td>\n",
       "      <td>59.0</td>\n",
       "      <td>NaN</td>\n",
       "      <td>52.0</td>\n",
       "    </tr>\n",
       "  </tbody>\n",
       "</table>\n",
       "</div>"
      ],
      "text/plain": [
       "   Age Gender    ID  Nouns_Comprehension  Verbs_Comprehension  \\\n",
       "0    4      m  N304                   83                 96.0   \n",
       "1    4      f  N309                   96                 96.0   \n",
       "2    4      m  N702                   67                 75.0   \n",
       "3    4      f  N704                   83                 58.0   \n",
       "4    4      m  N339                   79                 67.0   \n",
       "\n",
       "   Syntax_Comprehension  Nonwords_Comprehension  Discource_Comprehension  \\\n",
       "0                  71.0                    88.0                     56.0   \n",
       "1                  79.0                    92.0                     81.0   \n",
       "2                  75.0                    83.0                     63.0   \n",
       "3                  83.0                    88.0                     50.0   \n",
       "4                  71.0                    17.0                     50.0   \n",
       "\n",
       "   Nonwords_Repetition  Nouns_Production  Verbs_Production  Syntax_Production  \\\n",
       "0                 83.0                75              63.0               94.0   \n",
       "1                 92.0                83              75.0               79.0   \n",
       "2                 88.0                50              59.0               85.0   \n",
       "3                 73.0                71              59.0               94.0   \n",
       "4                 90.0                54              59.0                NaN   \n",
       "\n",
       "   Syntax_Repetition  \n",
       "0               85.0  \n",
       "1               87.0  \n",
       "2               63.0  \n",
       "3               97.0  \n",
       "4               52.0  "
      ]
     },
     "execution_count": 57,
     "metadata": {},
     "output_type": "execute_result"
    }
   ],
   "source": [
    "read_file4 = pd.read_excel (r'D:\\Qmet_project\\Python\\Controls_all.xlsx', sheet_name=1)\n",
    "Controls_csv4 = read_file4.to_csv (r'D:\\Qmet_project\\Python\\Controls_all.csv', index = None, header=True)\n",
    "\n",
    "df_Controls4 = pd.read_csv(r'D:\\Qmet_project\\Python\\Controls_all.csv', sep=',', encoding='utf-8')\n",
    "df_Controls4.head()"
   ]
  },
  {
   "cell_type": "code",
   "execution_count": 58,
   "metadata": {},
   "outputs": [
    {
     "data": {
      "text/html": [
       "<div>\n",
       "<style scoped>\n",
       "    .dataframe tbody tr th:only-of-type {\n",
       "        vertical-align: middle;\n",
       "    }\n",
       "\n",
       "    .dataframe tbody tr th {\n",
       "        vertical-align: top;\n",
       "    }\n",
       "\n",
       "    .dataframe thead th {\n",
       "        text-align: right;\n",
       "    }\n",
       "</style>\n",
       "<table border=\"1\" class=\"dataframe\">\n",
       "  <thead>\n",
       "    <tr style=\"text-align: right;\">\n",
       "      <th></th>\n",
       "      <th>Age</th>\n",
       "      <th>Gender</th>\n",
       "      <th>ID</th>\n",
       "      <th>Nouns_Comprehension</th>\n",
       "      <th>Verbs_Comprehension</th>\n",
       "      <th>Syntax_Comprehension</th>\n",
       "      <th>Nonwords_Comprehension</th>\n",
       "      <th>Discource_Comprehension</th>\n",
       "      <th>Nonwords_Repetition</th>\n",
       "      <th>Nouns_Production</th>\n",
       "      <th>Verbs_Production</th>\n",
       "      <th>Syntax_Production</th>\n",
       "      <th>Syntax_Repetition</th>\n",
       "    </tr>\n",
       "  </thead>\n",
       "  <tbody>\n",
       "    <tr>\n",
       "      <th>0</th>\n",
       "      <td>5.0</td>\n",
       "      <td>f</td>\n",
       "      <td>N403</td>\n",
       "      <td>88</td>\n",
       "      <td>100</td>\n",
       "      <td>96</td>\n",
       "      <td>88</td>\n",
       "      <td>81.0</td>\n",
       "      <td>100</td>\n",
       "      <td>75</td>\n",
       "      <td>75</td>\n",
       "      <td>86.0</td>\n",
       "      <td>84</td>\n",
       "    </tr>\n",
       "    <tr>\n",
       "      <th>1</th>\n",
       "      <td>5.0</td>\n",
       "      <td>m</td>\n",
       "      <td>N303</td>\n",
       "      <td>100</td>\n",
       "      <td>75</td>\n",
       "      <td>88</td>\n",
       "      <td>96</td>\n",
       "      <td>88.0</td>\n",
       "      <td>92</td>\n",
       "      <td>88</td>\n",
       "      <td>88</td>\n",
       "      <td>97.0</td>\n",
       "      <td>87</td>\n",
       "    </tr>\n",
       "    <tr>\n",
       "      <th>2</th>\n",
       "      <td>5.0</td>\n",
       "      <td>f</td>\n",
       "      <td>N204</td>\n",
       "      <td>83</td>\n",
       "      <td>88</td>\n",
       "      <td>67</td>\n",
       "      <td>100</td>\n",
       "      <td>75.0</td>\n",
       "      <td>92</td>\n",
       "      <td>71</td>\n",
       "      <td>67</td>\n",
       "      <td>76.0</td>\n",
       "      <td>85</td>\n",
       "    </tr>\n",
       "    <tr>\n",
       "      <th>3</th>\n",
       "      <td>5.0</td>\n",
       "      <td>m</td>\n",
       "      <td>N205</td>\n",
       "      <td>100</td>\n",
       "      <td>96</td>\n",
       "      <td>88</td>\n",
       "      <td>100</td>\n",
       "      <td>63.0</td>\n",
       "      <td>98</td>\n",
       "      <td>75</td>\n",
       "      <td>92</td>\n",
       "      <td>93.0</td>\n",
       "      <td>86</td>\n",
       "    </tr>\n",
       "    <tr>\n",
       "      <th>4</th>\n",
       "      <td>5.0</td>\n",
       "      <td>m</td>\n",
       "      <td>N611</td>\n",
       "      <td>96</td>\n",
       "      <td>96</td>\n",
       "      <td>92</td>\n",
       "      <td>100</td>\n",
       "      <td>94.0</td>\n",
       "      <td>98</td>\n",
       "      <td>79</td>\n",
       "      <td>83</td>\n",
       "      <td>94.0</td>\n",
       "      <td>98</td>\n",
       "    </tr>\n",
       "  </tbody>\n",
       "</table>\n",
       "</div>"
      ],
      "text/plain": [
       "   Age Gender    ID  Nouns_Comprehension  Verbs_Comprehension  \\\n",
       "0  5.0      f  N403                   88                  100   \n",
       "1  5.0      m  N303                  100                   75   \n",
       "2  5.0      f  N204                   83                   88   \n",
       "3  5.0      m  N205                  100                   96   \n",
       "4  5.0      m  N611                   96                   96   \n",
       "\n",
       "   Syntax_Comprehension  Nonwords_Comprehension  Discource_Comprehension  \\\n",
       "0                    96                      88                     81.0   \n",
       "1                    88                      96                     88.0   \n",
       "2                    67                     100                     75.0   \n",
       "3                    88                     100                     63.0   \n",
       "4                    92                     100                     94.0   \n",
       "\n",
       "   Nonwords_Repetition  Nouns_Production  Verbs_Production  Syntax_Production  \\\n",
       "0                  100                75                75               86.0   \n",
       "1                   92                88                88               97.0   \n",
       "2                   92                71                67               76.0   \n",
       "3                   98                75                92               93.0   \n",
       "4                   98                79                83               94.0   \n",
       "\n",
       "   Syntax_Repetition  \n",
       "0                 84  \n",
       "1                 87  \n",
       "2                 85  \n",
       "3                 86  \n",
       "4                 98  "
      ]
     },
     "execution_count": 58,
     "metadata": {},
     "output_type": "execute_result"
    }
   ],
   "source": [
    "read_file5 = pd.read_excel (r'D:\\Qmet_project\\Python\\Controls_all.xlsx', sheet_name=2)\n",
    "Controls_csv5 = read_file5.to_csv (r'D:\\Qmet_project\\Python\\Controls_all.csv', index = None, header=True)\n",
    "\n",
    "df_Controls5 = pd.read_csv(r'D:\\Qmet_project\\Python\\Controls_all.csv', sep=',', encoding='utf-8')\n",
    "df_Controls5.head()"
   ]
  },
  {
   "cell_type": "code",
   "execution_count": 59,
   "metadata": {},
   "outputs": [
    {
     "data": {
      "text/html": [
       "<div>\n",
       "<style scoped>\n",
       "    .dataframe tbody tr th:only-of-type {\n",
       "        vertical-align: middle;\n",
       "    }\n",
       "\n",
       "    .dataframe tbody tr th {\n",
       "        vertical-align: top;\n",
       "    }\n",
       "\n",
       "    .dataframe thead th {\n",
       "        text-align: right;\n",
       "    }\n",
       "</style>\n",
       "<table border=\"1\" class=\"dataframe\">\n",
       "  <thead>\n",
       "    <tr style=\"text-align: right;\">\n",
       "      <th></th>\n",
       "      <th>Age</th>\n",
       "      <th>Gender</th>\n",
       "      <th>ID</th>\n",
       "      <th>Nouns_Comprehension</th>\n",
       "      <th>Verbs_Comprehension</th>\n",
       "      <th>Syntax_Comprehension</th>\n",
       "      <th>Nonwords_Comprehension</th>\n",
       "      <th>Discource_Comprehension</th>\n",
       "      <th>Nonwords_Repetition</th>\n",
       "      <th>Nouns_Production</th>\n",
       "      <th>Verbs_Production</th>\n",
       "      <th>Syntax_Production</th>\n",
       "      <th>Syntax_Repetition</th>\n",
       "    </tr>\n",
       "  </thead>\n",
       "  <tbody>\n",
       "    <tr>\n",
       "      <th>0</th>\n",
       "      <td>6.0</td>\n",
       "      <td>f</td>\n",
       "      <td>N405</td>\n",
       "      <td>92</td>\n",
       "      <td>96.0</td>\n",
       "      <td>83</td>\n",
       "      <td>96.0</td>\n",
       "      <td>63</td>\n",
       "      <td>94</td>\n",
       "      <td>75</td>\n",
       "      <td>88</td>\n",
       "      <td>87.0</td>\n",
       "      <td>82.0</td>\n",
       "    </tr>\n",
       "    <tr>\n",
       "      <th>1</th>\n",
       "      <td>6.0</td>\n",
       "      <td>m</td>\n",
       "      <td>N302</td>\n",
       "      <td>100</td>\n",
       "      <td>88.0</td>\n",
       "      <td>92</td>\n",
       "      <td>88.0</td>\n",
       "      <td>94</td>\n",
       "      <td>98</td>\n",
       "      <td>88</td>\n",
       "      <td>79</td>\n",
       "      <td>92.0</td>\n",
       "      <td>87.0</td>\n",
       "    </tr>\n",
       "    <tr>\n",
       "      <th>2</th>\n",
       "      <td>6.0</td>\n",
       "      <td>m</td>\n",
       "      <td>N200</td>\n",
       "      <td>100</td>\n",
       "      <td>100.0</td>\n",
       "      <td>92</td>\n",
       "      <td>100.0</td>\n",
       "      <td>94</td>\n",
       "      <td>100</td>\n",
       "      <td>79</td>\n",
       "      <td>88</td>\n",
       "      <td>95.0</td>\n",
       "      <td>91.0</td>\n",
       "    </tr>\n",
       "    <tr>\n",
       "      <th>3</th>\n",
       "      <td>6.0</td>\n",
       "      <td>m</td>\n",
       "      <td>N201</td>\n",
       "      <td>100</td>\n",
       "      <td>96.0</td>\n",
       "      <td>96</td>\n",
       "      <td>100.0</td>\n",
       "      <td>81</td>\n",
       "      <td>100</td>\n",
       "      <td>92</td>\n",
       "      <td>79</td>\n",
       "      <td>90.0</td>\n",
       "      <td>92.0</td>\n",
       "    </tr>\n",
       "    <tr>\n",
       "      <th>4</th>\n",
       "      <td>6.0</td>\n",
       "      <td>f</td>\n",
       "      <td>N203</td>\n",
       "      <td>100</td>\n",
       "      <td>96.0</td>\n",
       "      <td>88</td>\n",
       "      <td>100.0</td>\n",
       "      <td>100</td>\n",
       "      <td>100</td>\n",
       "      <td>79</td>\n",
       "      <td>67</td>\n",
       "      <td>94.0</td>\n",
       "      <td>95.0</td>\n",
       "    </tr>\n",
       "  </tbody>\n",
       "</table>\n",
       "</div>"
      ],
      "text/plain": [
       "   Age Gender    ID  Nouns_Comprehension  Verbs_Comprehension  \\\n",
       "0  6.0      f  N405                   92                 96.0   \n",
       "1  6.0      m  N302                  100                 88.0   \n",
       "2  6.0      m  N200                  100                100.0   \n",
       "3  6.0      m  N201                  100                 96.0   \n",
       "4  6.0      f  N203                  100                 96.0   \n",
       "\n",
       "   Syntax_Comprehension  Nonwords_Comprehension  Discource_Comprehension  \\\n",
       "0                    83                    96.0                       63   \n",
       "1                    92                    88.0                       94   \n",
       "2                    92                   100.0                       94   \n",
       "3                    96                   100.0                       81   \n",
       "4                    88                   100.0                      100   \n",
       "\n",
       "   Nonwords_Repetition  Nouns_Production  Verbs_Production  Syntax_Production  \\\n",
       "0                   94                75                88               87.0   \n",
       "1                   98                88                79               92.0   \n",
       "2                  100                79                88               95.0   \n",
       "3                  100                92                79               90.0   \n",
       "4                  100                79                67               94.0   \n",
       "\n",
       "   Syntax_Repetition  \n",
       "0               82.0  \n",
       "1               87.0  \n",
       "2               91.0  \n",
       "3               92.0  \n",
       "4               95.0  "
      ]
     },
     "execution_count": 59,
     "metadata": {},
     "output_type": "execute_result"
    }
   ],
   "source": [
    "read_file6 = pd.read_excel (r'D:\\Qmet_project\\Python\\Controls_all.xlsx', sheet_name=3)\n",
    "Controls_csv6 = read_file6.to_csv (r'D:\\Qmet_project\\Python\\Controls_all.csv', index = None, header=True)\n",
    "\n",
    "df_Controls6 = pd.read_csv(r'D:\\Qmet_project\\Python\\Controls_all.csv', sep=',', encoding='utf-8')\n",
    "df_Controls6.head()"
   ]
  },
  {
   "cell_type": "code",
   "execution_count": 60,
   "metadata": {},
   "outputs": [
    {
     "data": {
      "text/html": [
       "<div>\n",
       "<style scoped>\n",
       "    .dataframe tbody tr th:only-of-type {\n",
       "        vertical-align: middle;\n",
       "    }\n",
       "\n",
       "    .dataframe tbody tr th {\n",
       "        vertical-align: top;\n",
       "    }\n",
       "\n",
       "    .dataframe thead th {\n",
       "        text-align: right;\n",
       "    }\n",
       "</style>\n",
       "<table border=\"1\" class=\"dataframe\">\n",
       "  <thead>\n",
       "    <tr style=\"text-align: right;\">\n",
       "      <th></th>\n",
       "      <th>Age</th>\n",
       "      <th>Gender</th>\n",
       "      <th>ID</th>\n",
       "      <th>Nouns_Comprehension</th>\n",
       "      <th>Verbs_Comprehension</th>\n",
       "      <th>Syntax_Comprehension</th>\n",
       "      <th>Nonwords_Comprehension</th>\n",
       "      <th>Discource_Comprehension</th>\n",
       "      <th>Nonwords_Repetition</th>\n",
       "      <th>Nouns_Production</th>\n",
       "      <th>Verbs_Production</th>\n",
       "      <th>Syntax_Production</th>\n",
       "      <th>Syntax_Repetition</th>\n",
       "    </tr>\n",
       "  </thead>\n",
       "  <tbody>\n",
       "    <tr>\n",
       "      <th>0</th>\n",
       "      <td>7</td>\n",
       "      <td>m</td>\n",
       "      <td>N400</td>\n",
       "      <td>92</td>\n",
       "      <td>92</td>\n",
       "      <td>92</td>\n",
       "      <td>96</td>\n",
       "      <td>100</td>\n",
       "      <td>98</td>\n",
       "      <td>88</td>\n",
       "      <td>88</td>\n",
       "      <td>93</td>\n",
       "      <td>95</td>\n",
       "    </tr>\n",
       "    <tr>\n",
       "      <th>1</th>\n",
       "      <td>7</td>\n",
       "      <td>f</td>\n",
       "      <td>N202</td>\n",
       "      <td>96</td>\n",
       "      <td>92</td>\n",
       "      <td>96</td>\n",
       "      <td>100</td>\n",
       "      <td>56</td>\n",
       "      <td>100</td>\n",
       "      <td>79</td>\n",
       "      <td>67</td>\n",
       "      <td>94</td>\n",
       "      <td>83</td>\n",
       "    </tr>\n",
       "    <tr>\n",
       "      <th>2</th>\n",
       "      <td>7</td>\n",
       "      <td>m</td>\n",
       "      <td>N206</td>\n",
       "      <td>100</td>\n",
       "      <td>96</td>\n",
       "      <td>100</td>\n",
       "      <td>100</td>\n",
       "      <td>94</td>\n",
       "      <td>100</td>\n",
       "      <td>96</td>\n",
       "      <td>83</td>\n",
       "      <td>97</td>\n",
       "      <td>89</td>\n",
       "    </tr>\n",
       "    <tr>\n",
       "      <th>3</th>\n",
       "      <td>7</td>\n",
       "      <td>m</td>\n",
       "      <td>N703</td>\n",
       "      <td>96</td>\n",
       "      <td>92</td>\n",
       "      <td>88</td>\n",
       "      <td>92</td>\n",
       "      <td>94</td>\n",
       "      <td>100</td>\n",
       "      <td>88</td>\n",
       "      <td>75</td>\n",
       "      <td>92</td>\n",
       "      <td>100</td>\n",
       "    </tr>\n",
       "    <tr>\n",
       "      <th>4</th>\n",
       "      <td>7</td>\n",
       "      <td>m</td>\n",
       "      <td>N323</td>\n",
       "      <td>100</td>\n",
       "      <td>88</td>\n",
       "      <td>67</td>\n",
       "      <td>92</td>\n",
       "      <td>100</td>\n",
       "      <td>98</td>\n",
       "      <td>92</td>\n",
       "      <td>83</td>\n",
       "      <td>93</td>\n",
       "      <td>95</td>\n",
       "    </tr>\n",
       "  </tbody>\n",
       "</table>\n",
       "</div>"
      ],
      "text/plain": [
       "   Age Gender    ID  Nouns_Comprehension  Verbs_Comprehension  \\\n",
       "0    7      m  N400                   92                   92   \n",
       "1    7      f  N202                   96                   92   \n",
       "2    7      m  N206                  100                   96   \n",
       "3    7      m  N703                   96                   92   \n",
       "4    7      m  N323                  100                   88   \n",
       "\n",
       "   Syntax_Comprehension  Nonwords_Comprehension  Discource_Comprehension  \\\n",
       "0                    92                      96                      100   \n",
       "1                    96                     100                       56   \n",
       "2                   100                     100                       94   \n",
       "3                    88                      92                       94   \n",
       "4                    67                      92                      100   \n",
       "\n",
       "   Nonwords_Repetition  Nouns_Production  Verbs_Production  Syntax_Production  \\\n",
       "0                   98                88                88                 93   \n",
       "1                  100                79                67                 94   \n",
       "2                  100                96                83                 97   \n",
       "3                  100                88                75                 92   \n",
       "4                   98                92                83                 93   \n",
       "\n",
       "   Syntax_Repetition  \n",
       "0                 95  \n",
       "1                 83  \n",
       "2                 89  \n",
       "3                100  \n",
       "4                 95  "
      ]
     },
     "execution_count": 60,
     "metadata": {},
     "output_type": "execute_result"
    }
   ],
   "source": [
    "read_file7 = pd.read_excel (r'D:\\Qmet_project\\Python\\Controls_all.xlsx', sheet_name=4)\n",
    "Controls_csv7 = read_file7.to_csv (r'D:\\Qmet_project\\Python\\Controls_all.csv', index = None, header=True)\n",
    "\n",
    "df_Controls7 = pd.read_csv(r'D:\\Qmet_project\\Python\\Controls_all.csv', sep=',', encoding='utf-8')\n",
    "df_Controls7.head()"
   ]
  },
  {
   "cell_type": "code",
   "execution_count": 61,
   "metadata": {},
   "outputs": [],
   "source": [
    "con = sqlite3.connect(\"Participants.db\")\n",
    "cur = con.cursor()"
   ]
  },
  {
   "cell_type": "code",
   "execution_count": 62,
   "metadata": {},
   "outputs": [],
   "source": [
    "df_Controls3.to_sql(name='Participants', con=con, if_exists='replace')"
   ]
  },
  {
   "cell_type": "code",
   "execution_count": 63,
   "metadata": {},
   "outputs": [],
   "source": [
    "df_Controls4.to_sql(name='Participants', con=con, if_exists='append')"
   ]
  },
  {
   "cell_type": "code",
   "execution_count": 64,
   "metadata": {},
   "outputs": [],
   "source": [
    "df_Controls5.to_sql(name='Participants', con=con, if_exists='append')"
   ]
  },
  {
   "cell_type": "code",
   "execution_count": 65,
   "metadata": {},
   "outputs": [],
   "source": [
    "df_Controls6.to_sql(name='Participants', con=con, if_exists='append')"
   ]
  },
  {
   "cell_type": "code",
   "execution_count": 66,
   "metadata": {},
   "outputs": [],
   "source": [
    "df_Controls7.to_sql(name='Participants', con=con, if_exists='append')"
   ]
  },
  {
   "cell_type": "code",
   "execution_count": 67,
   "metadata": {},
   "outputs": [],
   "source": [
    "con.commit()"
   ]
  },
  {
   "cell_type": "markdown",
   "metadata": {},
   "source": [
    "Let's check if all our data uploaded corretly. "
   ]
  },
  {
   "cell_type": "code",
   "execution_count": 68,
   "metadata": {},
   "outputs": [
    {
     "name": "stdout",
     "output_type": "stream",
     "text": [
      "(0, 3, 'm', 'N312', 50, 38, 54.0, 46.0, 63.0, 94.0, 42.0, 13.0, 81.0, 62.0)\n",
      "(1, 3, 'f', 'N313', 88, 79, 67.0, 50.0, 69.0, 96.0, 71.0, 46.0, 85.0, 60.0)\n",
      "(2, 3, 'f', 'N336', 63, 79, 50.0, None, 63.0, 90.0, 46.0, 63.0, 10.0, None)\n",
      "(3, 3, 'm', 'N361', 83, 92, 79.0, 100.0, None, 98.0, 54.0, 88.0, 88.0, 83.0)\n",
      "(4, 3, 'f', 'N803', 58, 50, 33.0, 88.0, 19.0, 71.0, 42.0, 21.0, 23.0, None)\n",
      "(5, 3, 'm', 'N805', 71, 96, 79.0, 17.0, 69.0, 94.0, 58.0, 50.0, 52.0, 82.0)\n",
      "(6, 3, 'f', 'N808', 67, 71, 46.0, 100.0, 75.0, 98.0, 46.0, 58.0, 40.0, 14.0)\n",
      "(7, 3, 'f', 'N814', 100, 88, 92.0, 96.0, 100.0, 96.0, 71.0, 71.0, 89.0, 89.0)\n",
      "(8, 3, 'f', 'N819', 79, 63, None, 8.0, None, None, 29.0, None, None, None)\n",
      "(9, 3, 'm', 'N822', 100, 92, 83.0, 96.0, 100.0, 100.0, 96.0, 92.0, 98.0, 92.0)\n",
      "(10, 3, 'f', 'N372', 71, 67, 50.0, None, None, 50.0, 33.0, None, None, None)\n",
      "(11, 3, 'm', 'N373', 88, 67, 54.0, None, None, 46.0, 46.0, None, None, None)\n",
      "(12, 3, 'f', 'N837', 67, 67, 63.0, 63.0, 56.0, 96.0, 58.0, 58.0, None, 68.0)\n",
      "(13, 3, 'm', 'N840', 88, 79, 83.0, 63.0, 69.0, 96.0, 96.0, 63.0, 66.0, 69.0)\n",
      "(14, 3, 'f', 'N841', 67, 67, 58.0, 58.0, 56.0, 98.0, 46.0, 67.0, 60.0, 55.0)\n",
      "(15, 3, 'f', 'N842', 79, 54, 67.0, 92.0, 63.0, 100.0, 67.0, 63.0, 46.0, 69.0)\n",
      "(16, 3, 'm', 'N843', 50, 71, 46.0, 42.0, 44.0, 96.0, 71.0, 42.0, None, None)\n",
      "(17, 3, 'm', 'N844', 92, 79, 75.0, 92.0, 88.0, 100.0, 79.0, 83.0, 69.0, 82.0)\n",
      "(18, 3, 'm', 'N845', 83, 92, 63.0, 88.0, 50.0, 100.0, 75.0, 63.0, 89.0, 75.0)\n",
      "(19, 3, 'f', 'N307', 83, 88, 92.0, 96.0, 88.0, 98.0, 67.0, 79.0, 92.0, 83.0)\n",
      "(20, 3, 'f', 'N310', 88, 88, 88.0, 79.0, 63.0, 94.0, 71.0, 71.0, 88.0, 57.0)\n",
      "(21, 3, 'f', 'N334', 88, 83, 75.0, 71.0, 69.0, 96.0, 58.0, 75.0, 93.0, 78.0)\n",
      "(22, 3, 'f', 'N338', 67, 71, 67.0, None, 25.0, 92.0, 42.0, 46.0, None, 65.0)\n",
      "(23, 3, 'm', 'N343', 83, 79, 71.0, None, None, 88.0, 63.0, 63.0, 85.0, 78.0)\n",
      "(24, 3, 'f', 'N348', 67, 58, None, None, None, 75.0, None, None, None, None)\n",
      "(25, 3, 'm', 'N358', 88, 71, 79.0, 50.0, 63.0, 98.0, 75.0, 50.0, 65.0, 80.0)\n",
      "(26, 3, 'f', 'N364', 88, 92, 83.0, 46.0, None, 94.0, 58.0, 67.0, 79.0, 75.0)\n",
      "(27, 3, 'f', 'N801', 71, 63, 79.0, 54.0, 44.0, 60.0, 42.0, 63.0, 77.0, 59.0)\n",
      "(28, 3, 'm', 'N720', 79, 92, 96.0, None, 56.0, None, 46.0, 58.0, None, None)\n",
      "(29, 3, 'f', 'N818', 96, 92, 96.0, 96.0, 88.0, 100.0, 83.0, 79.0, 85.0, 95.0)\n",
      "(30, 3, 'm', 'N367', 92, 92, 92.0, 83.0, 69.0, 96.0, 88.0, 75.0, 73.0, 86.0)\n",
      "(31, 3, 'm', 'N820', 75, 67, 83.0, 88.0, 88.0, 98.0, 79.0, 54.0, 82.0, 88.0)\n",
      "(32, 3, 'f', 'N900', 79, 63, None, None, None, 83.0, 58.0, 54.0, None, None)\n",
      "(33, 3, 'm', 'N824', 79, 83, 100.0, 92.0, 100.0, 96.0, 83.0, 75.0, 85.0, 95.0)\n",
      "(34, 3, 'f', 'N836', 83, 79, 92.0, 92.0, 81.0, 98.0, 58.0, 67.0, None, 98.0)\n",
      "(0, 4, 'm', 'N304', 83, 96, 71.0, 88.0, 56.0, 83.0, 75.0, 63.0, 94.0, 85.0)\n",
      "(1, 4, 'f', 'N309', 96, 96, 79.0, 92.0, 81.0, 92.0, 83.0, 75.0, 79.0, 87.0)\n",
      "(2, 4, 'm', 'N702', 67, 75, 75.0, 83.0, 63.0, 88.0, 50.0, 59.0, 85.0, 63.0)\n",
      "(3, 4, 'f', 'N704', 83, 58, 83.0, 88.0, 50.0, 73.0, 71.0, 59.0, 94.0, 97.0)\n",
      "(4, 4, 'm', 'N339', 79, 67, 71.0, 17.0, 50.0, 90.0, 54.0, 59.0, None, 52.0)\n",
      "(5, 4, 'm', 'N341', 71, 63, 92.0, 71.0, None, 94.0, 59.0, 50.0, None, 82.0)\n",
      "(6, 4, 'f', 'N344', 79, 92, 71.0, 71.0, None, 94.0, 54.0, 67.0, 82.0, 64.0)\n",
      "(7, 4, 'm', 'N345', 88, 63, 67.0, 46.0, None, 98.0, 75.0, 79.0, 90.0, 91.0)\n",
      "(8, 4, 'f', 'N346', 96, 96, 96.0, None, 75.0, 98.0, 58.0, 63.0, None, 91.0)\n",
      "(9, 4, 'm', 'N356', 83, None, 71.0, 88.0, None, 98.0, 50.0, 63.0, 79.0, 71.0)\n",
      "(10, 4, 'f', 'N359', 96, 46, 67.0, None, None, 90.0, 54.0, 46.0, None, None)\n",
      "(11, 4, 'f', 'N362', 96, 100, 92.0, 92.0, 88.0, 98.0, 71.0, 79.0, 93.0, 92.0)\n",
      "(12, 4, 'f', 'N719', 88, 88, 88.0, 100.0, 88.0, 98.0, 71.0, 67.0, 89.0, 90.0)\n",
      "(13, 4, 'm', 'N806', 67, 71, 83.0, 92.0, 69.0, 96.0, 96.0, 79.0, 93.0, 97.0)\n",
      "(14, 4, 'f', 'N807', 96, 92, 100.0, 67.0, 75.0, 100.0, 83.0, 96.0, 95.0, 85.0)\n",
      "(15, 4, 'f', 'N809', 88, 79, 79.0, 83.0, 94.0, 92.0, 75.0, 88.0, 93.0, 92.0)\n",
      "(16, 4, 'f', 'N810', 96, 83, 88.0, 100.0, 88.0, 100.0, 75.0, 88.0, 90.0, 97.0)\n",
      "(17, 4, 'f', 'N811', 92, 75, 96.0, 96.0, 75.0, 100.0, 75.0, 71.0, 92.0, 86.0)\n",
      "(18, 4, 'f', 'N813', 96, 100, 96.0, 92.0, 88.0, 100.0, 79.0, 88.0, 91.0, 98.0)\n",
      "(19, 4, 'f', 'N821', 92, 88, 79.0, 88.0, 81.0, 96.0, 54.0, 83.0, 67.0, 98.0)\n",
      "(20, 4, 'm', 'N369', 100, 79, 92.0, None, None, None, 75.0, 79.0, 36.0, None)\n",
      "(21, 4, 'f', 'N226', 100, 88, 96.0, 100.0, 100.0, 100.0, 100.0, 83.0, None, 98.0)\n",
      "(22, 4, 'm', 'N825', 92, 88, 79.0, 50.0, 69.0, 94.0, 67.0, 67.0, 93.0, 83.0)\n",
      "(23, 4, 'f', 'N305', 88, 79, 88.0, 83.0, 94.0, 92.0, 92.0, 75.0, 84.0, 82.0)\n",
      "(24, 4, 'f', 'N306', 75, 92, 96.0, 83.0, 88.0, 90.0, 88.0, 96.0, 95.0, 15.0)\n",
      "(25, 4, 'f', 'N612', 79, 75, 67.0, 13.0, 63.0, 96.0, 46.0, 46.0, 82.0, 46.0)\n",
      "(26, 4, 'm', 'N614', 96, 100, 92.0, 71.0, 69.0, 90.0, 88.0, 50.0, 90.0, 80.0)\n",
      "(27, 4, 'm', 'N617', 88, 75, 88.0, 96.0, 69.0, 83.0, 63.0, 71.0, 81.0, 83.0)\n",
      "(28, 4, 'f', 'N308', 92, 88, 88.0, 58.0, 63.0, 98.0, 79.0, 92.0, 76.0, 77.0)\n",
      "(29, 4, 'f', 'N700', 88, 92, 88.0, 38.0, 50.0, 75.0, 59.0, 67.0, 90.0, 85.0)\n",
      "(30, 4, 'm', 'N335', 75, 63, None, 33.0, 56.0, 92.0, 42.0, 79.0, None, None)\n",
      "(31, 4, 'f', 'N337', 83, 75, None, 25.0, 56.0, 96.0, 54.0, 75.0, None, 64.0)\n",
      "(32, 4, 'm', 'N340', 75, 25, 63.0, 83.0, 50.0, 96.0, 79.0, 67.0, None, 75.0)\n",
      "(33, 4, 'f', 'N342', 92, 92, 83.0, 50.0, 75.0, 98.0, 54.0, 75.0, 83.0, 85.0)\n",
      "(34, 4, 'f', 'N347', 88, 83, 71.0, 29.0, 100.0, 94.0, 79.0, 67.0, 90.0, 82.0)\n",
      "(35, 4, 'f', 'N349', 79, 88, 79.0, 92.0, 50.0, 96.0, 50.0, 50.0, None, 86.0)\n",
      "(36, 4, 'f', 'N350', 83, 88, 71.0, 83.0, None, 98.0, 71.0, 54.0, 83.0, 92.0)\n",
      "(37, 4, 'm', 'N357', 83, 46, 50.0, 54.0, 69.0, 98.0, 42.0, 67.0, 69.0, 82.0)\n",
      "(38, 4, 'm', 'N360', 88, 88, 88.0, 100.0, 69.0, 96.0, 67.0, 67.0, 95.0, 86.0)\n",
      "(39, 4, 'f', 'N363', 100, 88, 75.0, 67.0, 50.0, 100.0, 88.0, 96.0, 86.0, 89.0)\n",
      "(40, 4, 'f', 'N365', 96, 83, 75.0, 96.0, 63.0, 96.0, 79.0, 88.0, 86.0, 90.0)\n",
      "(41, 4, 'm', 'N802', 88, 88, None, None, None, 71.0, 75.0, None, None, None)\n",
      "(42, 4, 'm', 'N222', 92, 96, 63.0, 96.0, 56.0, 96.0, 67.0, 79.0, 80.0, 77.0)\n",
      "(43, 4, 'm', 'N366', 92, 92, 88.0, None, 94.0, 98.0, 67.0, 79.0, 64.0, 91.0)\n",
      "(44, 4, 'f', 'N228', 92, 88, 67.0, None, 25.0, 75.0, 63.0, 79.0, None, None)\n",
      "(45, 4, 'f', 'N838', 83, 79, 67.0, 67.0, 81.0, 100.0, 54.0, 75.0, None, 92.0)\n",
      "(46, 4, 'f', 'N839', 83, 92, 92.0, 96.0, 88.0, 100.0, 79.0, 67.0, None, 92.0)\n",
      "(0, 5, 'f', 'N403', 88, 100, 96.0, 88.0, 81.0, 100.0, 75.0, 75.0, 86.0, 84.0)\n",
      "(1, 5, 'm', 'N303', 100, 75, 88.0, 96.0, 88.0, 92.0, 88.0, 88.0, 97.0, 87.0)\n",
      "(2, 5, 'f', 'N204', 83, 88, 67.0, 100.0, 75.0, 92.0, 71.0, 67.0, 76.0, 85.0)\n",
      "(3, 5, 'm', 'N205', 100, 96, 88.0, 100.0, 63.0, 98.0, 75.0, 92.0, 93.0, 86.0)\n",
      "(4, 5, 'm', 'N611', 96, 96, 92.0, 100.0, 94.0, 98.0, 79.0, 83.0, 94.0, 98.0)\n",
      "(5, 5, 'f', 'N613', 96, 100, 88.0, 17.0, 88.0, 100.0, 92.0, 79.0, 89.0, 87.0)\n",
      "(6, 5, 'f', 'N615', 88, 75, 71.0, 92.0, 50.0, 88.0, 59.0, 75.0, 85.0, 77.0)\n",
      "(7, 5, 'f', 'N701', 92, 88, 92.0, 100.0, 94.0, 79.0, 83.0, 75.0, 90.0, 76.0)\n",
      "(8, 5, 'f', 'N355', 92, 92, 88.0, 92.0, 94.0, 100.0, 88.0, 88.0, 95.0, 97.0)\n",
      "(9, 5, 'm', 'N804', 96, 92, 92.0, 92.0, 75.0, 92.0, 79.0, 75.0, 82.0, 100.0)\n",
      "(10, 5, 'f', 'N812', 88, 75, 83.0, 92.0, 81.0, 100.0, 88.0, 75.0, 89.0, 87.0)\n",
      "(11, 5, 'f', 'N815', 96, 96, 100.0, 96.0, 94.0, 98.0, 96.0, 96.0, 98.0, 100.0)\n",
      "(12, 5, 'm', 'N816', 71, 71, 75.0, 83.0, 94.0, 100.0, 83.0, 59.0, 75.0, 100.0)\n",
      "(13, 5, 'f', 'N817', 96, 92, 83.0, 100.0, 100.0, 100.0, 92.0, 96.0, 93.0, 100.0)\n",
      "(14, 5, 'f', 'N220', 92, 96, 92.0, 100.0, 81.0, 98.0, 63.0, 79.0, 88.0, 94.0)\n",
      "(15, 5, 'f', 'N371', 96, 83, 79.0, 96.0, 63.0, 98.0, 79.0, 71.0, None, 66.0)\n",
      "(16, 5, 'f', 'N826', 96, 100, 92.0, 100.0, 94.0, 96.0, 88.0, 79.0, 86.0, 94.0)\n",
      "(17, 5, 'm', 'N828', 100, 92, 96.0, 96.0, 94.0, 100.0, 83.0, 96.0, 93.0, 92.0)\n",
      "(18, 5, 'm', 'N505', 96, 79, 83.0, 100.0, 88.0, 96.0, 88.0, 79.0, 77.0, 100.0)\n",
      "(19, 5, 'm', 'N402', 100, 100, 96.0, 100.0, 100.0, 96.0, 83.0, 88.0, 89.0, 97.0)\n",
      "(20, 5, 'f', 'N601', 96, 92, 100.0, 100.0, 100.0, 98.0, 92.0, 92.0, 99.0, 100.0)\n",
      "(21, 5, 'f', 'N609', 96, 92, 83.0, 25.0, 88.0, 98.0, 83.0, 79.0, 90.0, 90.0)\n",
      "(22, 5, 'f', 'N321', 96, 92, 75.0, 96.0, 88.0, 90.0, 75.0, 79.0, 88.0, 75.0)\n",
      "(23, 5, 'f', 'N322', 96, 83, 83.0, 88.0, 100.0, 100.0, 71.0, 63.0, 79.0, 92.0)\n",
      "(24, 5, 'm', 'N710', 96, 92, 96.0, 100.0, 100.0, 92.0, 83.0, 83.0, 93.0, 100.0)\n",
      "(25, 5, 'f', 'N714', 88, 83, 92.0, 96.0, 100.0, 90.0, 83.0, 88.0, 93.0, 100.0)\n",
      "(26, 5, 'm', 'N718', 96, 96, 83.0, 88.0, 81.0, 100.0, 83.0, 100.0, 96.0, 69.0)\n",
      "(27, 5, 'f', 'N329', 96, 92, 96.0, 88.0, 81.0, 94.0, 79.0, 75.0, 88.0, 90.0)\n",
      "(28, 5, 'm', 'N330', 96, 83, 79.0, 92.0, 75.0, 96.0, 67.0, 83.0, 92.0, 87.0)\n",
      "(29, 5, 'f', 'N332', 100, 92, 88.0, 96.0, 81.0, 96.0, 83.0, 79.0, 89.0, 92.0)\n",
      "(30, 5, 'f', 'N351', 75, 83, 92.0, 88.0, 81.0, 98.0, 79.0, 96.0, 96.0, 85.0)\n",
      "(31, 5, 'm', 'N354', 100, 100, 88.0, 96.0, None, 92.0, 88.0, 21.0, 91.0, 83.0)\n",
      "(32, 5, 'f', 'N216', 100, 92, 92.0, 100.0, 88.0, 98.0, 83.0, 83.0, 95.0, 86.0)\n",
      "(33, 5, 'm', 'N217', 96, 83, 96.0, 96.0, 81.0, 100.0, 83.0, 79.0, 90.0, 98.0)\n",
      "(34, 5, 'm', 'N213', 96, 96, 83.0, 100.0, 81.0, 94.0, 88.0, 75.0, 94.0, 81.0)\n",
      "(35, 5, 'm', 'N827', 92, 100, 67.0, 92.0, 88.0, 100.0, 71.0, 83.0, 81.0, 87.0)\n",
      "(36, 5, 'f', 'N829', 96, 92, 88.0, 96.0, 69.0, 100.0, 88.0, 79.0, 94.0, 92.0)\n",
      "(37, 5, 'm', 'N830', 96, 96, 88.0, 96.0, 75.0, 100.0, 88.0, 79.0, 91.0, 87.0)\n",
      "(38, 5, 'm', 'N832', 96, 92, 100.0, 100.0, 94.0, 100.0, 96.0, 100.0, 95.0, 100.0)\n",
      "(39, 5, 'm', 'N833', 100, 96, 88.0, 100.0, 81.0, 100.0, 88.0, 88.0, 88.0, 95.0)\n",
      "(0, 6, 'f', 'N405', 92, 96, 83.0, 96.0, 63.0, 94.0, 75.0, 88.0, 87.0, 82.0)\n",
      "(1, 6, 'm', 'N302', 100, 88, 92.0, 88.0, 94.0, 98.0, 88.0, 79.0, 92.0, 87.0)\n",
      "(2, 6, 'm', 'N200', 100, 100, 92.0, 100.0, 94.0, 100.0, 79.0, 88.0, 95.0, 91.0)\n",
      "(3, 6, 'm', 'N201', 100, 96, 96.0, 100.0, 81.0, 100.0, 92.0, 79.0, 90.0, 92.0)\n",
      "(4, 6, 'f', 'N203', 100, 96, 88.0, 100.0, 100.0, 100.0, 79.0, 67.0, 94.0, 95.0)\n",
      "(5, 6, 'm', 'N600', 92, 88, 67.0, 50.0, 69.0, 85.0, 88.0, 83.0, 92.0, 89.0)\n",
      "(6, 6, 'f', 'N603', 100, 92, 79.0, 92.0, 88.0, 92.0, 67.0, 88.0, 87.0, 70.0)\n",
      "(7, 6, 'f', 'N605', 96, 96, 96.0, 96.0, 100.0, 90.0, 88.0, 88.0, 97.0, 97.0)\n",
      "(8, 6, 'f', 'N606', 96, 79, 92.0, 100.0, 81.0, 100.0, 82.0, 83.0, 96.0, 94.0)\n",
      "(9, 6, 'f', 'N607', 100, 96, 92.0, 100.0, 88.0, 98.0, 92.0, 96.0, 91.0, 97.0)\n",
      "(10, 6, 'm', 'N705', 100, 96, 96.0, 100.0, 100.0, 100.0, 92.0, 79.0, 97.0, 100.0)\n",
      "(11, 6, 'm', 'N706', 92, 96, 92.0, 96.0, 100.0, 100.0, 88.0, 88.0, 93.0, 91.0)\n",
      "(12, 6, 'f', 'N325', 96, 96, 96.0, 100.0, 63.0, 98.0, 75.0, 79.0, 91.0, 91.0)\n",
      "(13, 6, 'f', 'N707', 92, 100, 79.0, 92.0, 100.0, 96.0, 79.0, 92.0, 91.0, 78.0)\n",
      "(14, 6, 'm', 'N708', 100, 88, 92.0, 100.0, 100.0, 96.0, 92.0, 75.0, 95.0, 97.0)\n",
      "(15, 6, 'm', 'N711', 100, 96, 88.0, 100.0, 81.0, 96.0, 83.0, 67.0, 93.0, 87.0)\n",
      "(16, 6, 'f', 'N715', 92, 92, 96.0, 96.0, 100.0, 94.0, 83.0, 88.0, 92.0, 92.0)\n",
      "(17, 6, 'f', 'N717', 96, 92, 92.0, 96.0, 81.0, 100.0, 88.0, 88.0, 91.0, 94.0)\n",
      "(18, 6, 'f', 'N328', 79, 92, 96.0, 96.0, 100.0, 92.0, 96.0, 88.0, 94.0, 71.0)\n",
      "(19, 6, 'm', 'N331', 58, 100, 96.0, 100.0, 100.0, 92.0, 100.0, 92.0, 100.0, 100.0)\n",
      "(20, 6, 'm', 'N333', 100, 96, 92.0, 100.0, 94.0, 98.0, 92.0, 92.0, 95.0, 98.0)\n",
      "(21, 6, 'm', 'N352', 96, 88, 88.0, 42.0, 81.0, 100.0, 71.0, 83.0, 91.0, 87.0)\n",
      "(22, 6, 'f', 'N353', 92, 83, 96.0, 96.0, 88.0, 100.0, 83.0, 83.0, 91.0, 100.0)\n",
      "(23, 6, 'f', 'N215', 100, 100, 96.0, 100.0, 100.0, 96.0, 92.0, 100.0, 95.0, 97.0)\n",
      "(24, 6, 'f', 'N219', 96, 92, 96.0, 92.0, 88.0, 83.0, 92.0, 92.0, 96.0, 98.0)\n",
      "(25, 6, 'm', 'N214', 92, 96, 88.0, 92.0, 95.0, 96.0, 92.0, 100.0, 95.0, 85.0)\n",
      "(26, 6, 'm', 'N218', 96, None, 96.0, 100.0, 100.0, 94.0, 96.0, 96.0, 97.0, 91.0)\n",
      "(27, 6, 'f', 'N221', 92, 96, 88.0, None, 100.0, 94.0, 92.0, 92.0, 90.0, None)\n",
      "(28, 6, 'f', 'N368', 96, 92, 96.0, 100.0, 94.0, 100.0, 83.0, 100.0, 95.0, 85.0)\n",
      "(29, 6, 'f', 'N227', 100, 96, 96.0, 100.0, 100.0, 100.0, 96.0, 83.0, None, 97.0)\n",
      "(30, 6, 'f', 'N501', 100, 88, 92.0, 79.0, 81.0, 98.0, 83.0, 83.0, 98.0, 100.0)\n",
      "(31, 6, 'f', 'N502', 96, 96, 100.0, 100.0, 88.0, 100.0, 92.0, 88.0, 98.0, 98.0)\n",
      "(32, 6, 'm', 'N229', 96, 92, 92.0, 100.0, 94.0, 100.0, 88.0, 83.0, None, 100.0)\n",
      "(33, 6, 'm', 'N504', 100, 100, 92.0, 92.0, 94.0, 77.0, 83.0, 67.0, 97.0, 94.0)\n",
      "(34, 6, 'm', 'N831', 100, 100, 88.0, 100.0, 94.0, 100.0, 96.0, 100.0, 95.0, 100.0)\n",
      "(35, 6, 'f', 'N834', 96, 96, 92.0, 100.0, 94.0, 100.0, 92.0, 96.0, 94.0, 97.0)\n",
      "(36, 6, 'f', 'N401', 100, 100, 96.0, 100.0, 100.0, 94.0, 92.0, 96.0, 95.0, 92.0)\n",
      "(37, 6, 'f', 'N301', 100, 96, 100.0, 96.0, 100.0, 98.0, 92.0, 100.0, 100.0, 100.0)\n",
      "(38, 6, 'm', 'N604', 96, 92, 92.0, 100.0, 94.0, 100.0, 96.0, 92.0, 84.0, 86.0)\n",
      "(39, 6, 'f', 'N314', 96, 100, 92.0, 96.0, 100.0, 100.0, 71.0, 92.0, 97.0, 100.0)\n",
      "(40, 6, 'f', 'N315', 96, 96, 96.0, 100.0, 100.0, 100.0, 100.0, 92.0, 95.0, 100.0)\n",
      "(41, 6, 'f', 'N316', 100, 92, 88.0, 96.0, 100.0, 98.0, 75.0, 79.0, 96.0, 100.0)\n",
      "(42, 6, 'm', 'N317', 100, 100, 96.0, 100.0, 94.0, 100.0, 88.0, 100.0, 92.0, 97.0)\n",
      "(43, 6, 'f', 'N318', 100, 92, 79.0, 96.0, 94.0, 100.0, 92.0, 92.0, 96.0, 91.0)\n",
      "(44, 6, 'f', 'N319', 92, 92, 79.0, 92.0, 75.0, 98.0, 83.0, 83.0, 92.0, 86.0)\n",
      "(45, 6, 'f', 'N320', 92, 79, 88.0, 96.0, 100.0, 100.0, 96.0, 75.0, 96.0, 100.0)\n",
      "(46, 6, 'm', 'N326', 92, 100, 92.0, 100.0, 81.0, 100.0, 92.0, 96.0, 94.0, 95.0)\n",
      "(47, 6, 'm', 'N709', 96, 92, 96.0, 100.0, 100.0, 100.0, 96.0, 96.0, 92.0, 86.0)\n",
      "(48, 6, 'f', 'N207', 100, 96, 96.0, 96.0, 100.0, 100.0, 100.0, 92.0, 93.0, 100.0)\n",
      "(49, 6, 'f', 'N208', 100, 92, 96.0, 100.0, 100.0, 98.0, 92.0, 92.0, 98.0, 94.0)\n",
      "(50, 6, 'f', 'N209', 100, 100, 88.0, 100.0, 100.0, 98.0, 88.0, 88.0, 93.0, 94.0)\n",
      "(51, 6, 'f', 'N210', 100, 100, 92.0, 100.0, 88.0, 98.0, 96.0, 100.0, 94.0, 94.0)\n",
      "(52, 6, 'm', 'N211', 100, 92, 92.0, 100.0, 100.0, 98.0, 92.0, 96.0, 100.0, 94.0)\n",
      "(53, 6, 'm', 'N225', 88, 71, 83.0, 79.0, 56.0, 83.0, 63.0, 63.0, None, 77.0)\n",
      "(54, 6, 'f', 'N230', 88, 88, 88.0, 79.0, 94.0, 100.0, 88.0, 88.0, None, None)\n",
      "(55, 6, 'f', 'N823', 96, 100, 100.0, 100.0, 100.0, 100.0, 96.0, 88.0, 96.0, 100.0)\n",
      "(56, 6, 'm', 'N608', 96, 100, 88.0, 92.0, 100.0, 98.0, 88.0, 88.0, 92.0, 100.0)\n",
      "(0, 7, 'm', 'N400', 92, 92, 92.0, 96.0, 100.0, 98.0, 88.0, 88.0, 93.0, 95.0)\n",
      "(1, 7, 'f', 'N202', 96, 92, 96.0, 100.0, 56.0, 100.0, 79.0, 67.0, 94.0, 83.0)\n",
      "(2, 7, 'm', 'N206', 100, 96, 100.0, 100.0, 94.0, 100.0, 96.0, 83.0, 97.0, 89.0)\n",
      "(3, 7, 'm', 'N703', 96, 92, 88.0, 92.0, 94.0, 100.0, 88.0, 75.0, 92.0, 100.0)\n",
      "(4, 7, 'm', 'N323', 100, 88, 67.0, 92.0, 100.0, 98.0, 92.0, 83.0, 93.0, 95.0)\n",
      "(5, 7, 'm', 'N324', 92, 96, 88.0, 96.0, 100.0, 100.0, 92.0, 83.0, 90.0, 92.0)\n",
      "(6, 7, 'm', 'N327', 100, 96, 92.0, 100.0, 94.0, 94.0, 100.0, 92.0, 94.0, 98.0)\n",
      "(7, 7, 'm', 'N712', 100, 100, 92.0, 96.0, 88.0, 94.0, 96.0, 92.0, 85.0, 95.0)\n",
      "(8, 7, 'f', 'N713', 100, 100, 92.0, 100.0, 100.0, 100.0, 100.0, 92.0, 98.0, 100.0)\n",
      "(9, 7, 'm', 'N716', 96, 100, 100.0, 100.0, 100.0, 92.0, 96.0, 92.0, 99.0, 95.0)\n",
      "(10, 7, 'f', 'N224', 100, 100, 92.0, 96.0, 94.0, 100.0, 1.0, 88.0, 85.0, 95.0)\n",
      "(11, 7, 'm', 'D20 (12)', 100, 100, 96.0, 88.0, 100.0, 96.0, 100.0, 96.0, 90.0, 87.0)\n",
      "(12, 7, 'm', 'N835', 100, 100, 75.0, 100.0, 88.0, 100.0, 100.0, 96.0, 86.0, 94.0)\n",
      "(13, 7, 'm', 'D22', 96, 96, 96.0, 96.0, 100.0, 94.0, 96.0, 96.0, 99.0, 97.0)\n",
      "(14, 7, 'f', 'D19', 100, 96, 88.0, 88.0, 100.0, 96.0, 100.0, 100.0, 94.0, 98.0)\n",
      "(15, 7, 'm', 'N212', 96, 96, 96.0, 100.0, 100.0, 100.0, 92.0, 96.0, 92.0, 95.0)\n",
      "(16, 7, 'f', 'D04', 92, 92, 100.0, 100.0, 100.0, 100.0, 100.0, 92.0, 97.0, 100.0)\n",
      "(17, 7, 'f', 'D14 (14)', 100, 100, 88.0, 100.0, 100.0, 100.0, 92.0, 92.0, 97.0, 100.0)\n",
      "(18, 7, 'f', 'N846', 100, 96, 88.0, 100.0, 100.0, 100.0, 96.0, 92.0, 92.0, 100.0)\n",
      "(19, 7, 'm', 'N847', 100, 100, 96.0, 100.0, 100.0, 100.0, 100.0, 92.0, 98.0, 100.0)\n",
      "(20, 7, 'f', 'D24', 100, 96, 96.0, 100.0, 100.0, 100.0, 100.0, 100.0, 99.0, 98.0)\n",
      "(21, 7, 'f', 'N848', 100, 100, 100.0, 100.0, 100.0, 100.0, 100.0, 96.0, 97.0, 100.0)\n",
      "(22, 7, 'f', 'N849', 100, 100, 100.0, 100.0, 100.0, 100.0, 96.0, 88.0, 99.0, 100.0)\n",
      "(23, 7, 'm', 'N850', 100, 100, 100.0, 100.0, 100.0, 100.0, 100.0, 100.0, 99.0, 100.0)\n",
      "(24, 7, 'f', 'N851', 96, 96, 96.0, 100.0, 94.0, 98.0, 96.0, 100.0, 96.0, 100.0)\n",
      "(25, 7, 'f', 'N852', 100, 96, 92.0, 100.0, 100.0, 100.0, 96.0, 96.0, 100.0, 100.0)\n",
      "(26, 7, 'f', 'N853', 96, 100, 96.0, 100.0, 100.0, 98.0, 96.0, 96.0, 99.0, 100.0)\n",
      "(27, 7, 'f', 'N854', 100, 100, 92.0, 100.0, 100.0, 100.0, 92.0, 96.0, 97.0, 100.0)\n",
      "(28, 7, 'f', 'N855', 100, 100, 100.0, 100.0, 100.0, 100.0, 83.0, 96.0, 96.0, 100.0)\n",
      "(29, 7, 'f', 'N856', 92, 96, 83.0, 96.0, 94.0, 100.0, 100.0, 100.0, 97.0, 100.0)\n"
     ]
    }
   ],
   "source": [
    "for row in cur.execute('SELECT * FROM Participants'):\n",
    "    print(row)"
   ]
  },
  {
   "cell_type": "markdown",
   "metadata": {},
   "source": [
    "Looks like it.\n",
    "\n",
    "Then we should read our SQL query (which contains all data) through pandas. \n",
    "Let's also see how the end of our table looks."
   ]
  },
  {
   "cell_type": "code",
   "execution_count": 16,
   "metadata": {},
   "outputs": [
    {
     "data": {
      "text/html": [
       "<div>\n",
       "<style scoped>\n",
       "    .dataframe tbody tr th:only-of-type {\n",
       "        vertical-align: middle;\n",
       "    }\n",
       "\n",
       "    .dataframe tbody tr th {\n",
       "        vertical-align: top;\n",
       "    }\n",
       "\n",
       "    .dataframe thead th {\n",
       "        text-align: right;\n",
       "    }\n",
       "</style>\n",
       "<table border=\"1\" class=\"dataframe\">\n",
       "  <thead>\n",
       "    <tr style=\"text-align: right;\">\n",
       "      <th></th>\n",
       "      <th>index</th>\n",
       "      <th>Age</th>\n",
       "      <th>Gender</th>\n",
       "      <th>ID</th>\n",
       "      <th>Nouns_Comprehension</th>\n",
       "      <th>Verbs_Comprehension</th>\n",
       "      <th>Syntax_Comprehension</th>\n",
       "      <th>Nonwords_Comprehension</th>\n",
       "      <th>Discource_Comprehension</th>\n",
       "      <th>Nonwords_Repetition</th>\n",
       "      <th>Nouns_Production</th>\n",
       "      <th>Verbs_Production</th>\n",
       "      <th>Syntax_Production</th>\n",
       "      <th>Syntax_Repetition</th>\n",
       "    </tr>\n",
       "  </thead>\n",
       "  <tbody>\n",
       "    <tr>\n",
       "      <th>204</th>\n",
       "      <td>25</td>\n",
       "      <td>7</td>\n",
       "      <td>f</td>\n",
       "      <td>N852</td>\n",
       "      <td>100</td>\n",
       "      <td>96.0</td>\n",
       "      <td>92.0</td>\n",
       "      <td>100.0</td>\n",
       "      <td>100.0</td>\n",
       "      <td>100.0</td>\n",
       "      <td>96.0</td>\n",
       "      <td>96.0</td>\n",
       "      <td>100.0</td>\n",
       "      <td>100.0</td>\n",
       "    </tr>\n",
       "    <tr>\n",
       "      <th>205</th>\n",
       "      <td>26</td>\n",
       "      <td>7</td>\n",
       "      <td>f</td>\n",
       "      <td>N853</td>\n",
       "      <td>96</td>\n",
       "      <td>100.0</td>\n",
       "      <td>96.0</td>\n",
       "      <td>100.0</td>\n",
       "      <td>100.0</td>\n",
       "      <td>98.0</td>\n",
       "      <td>96.0</td>\n",
       "      <td>96.0</td>\n",
       "      <td>99.0</td>\n",
       "      <td>100.0</td>\n",
       "    </tr>\n",
       "    <tr>\n",
       "      <th>206</th>\n",
       "      <td>27</td>\n",
       "      <td>7</td>\n",
       "      <td>f</td>\n",
       "      <td>N854</td>\n",
       "      <td>100</td>\n",
       "      <td>100.0</td>\n",
       "      <td>92.0</td>\n",
       "      <td>100.0</td>\n",
       "      <td>100.0</td>\n",
       "      <td>100.0</td>\n",
       "      <td>92.0</td>\n",
       "      <td>96.0</td>\n",
       "      <td>97.0</td>\n",
       "      <td>100.0</td>\n",
       "    </tr>\n",
       "    <tr>\n",
       "      <th>207</th>\n",
       "      <td>28</td>\n",
       "      <td>7</td>\n",
       "      <td>f</td>\n",
       "      <td>N855</td>\n",
       "      <td>100</td>\n",
       "      <td>100.0</td>\n",
       "      <td>100.0</td>\n",
       "      <td>100.0</td>\n",
       "      <td>100.0</td>\n",
       "      <td>100.0</td>\n",
       "      <td>83.0</td>\n",
       "      <td>96.0</td>\n",
       "      <td>96.0</td>\n",
       "      <td>100.0</td>\n",
       "    </tr>\n",
       "    <tr>\n",
       "      <th>208</th>\n",
       "      <td>29</td>\n",
       "      <td>7</td>\n",
       "      <td>f</td>\n",
       "      <td>N856</td>\n",
       "      <td>92</td>\n",
       "      <td>96.0</td>\n",
       "      <td>83.0</td>\n",
       "      <td>96.0</td>\n",
       "      <td>94.0</td>\n",
       "      <td>100.0</td>\n",
       "      <td>100.0</td>\n",
       "      <td>100.0</td>\n",
       "      <td>97.0</td>\n",
       "      <td>100.0</td>\n",
       "    </tr>\n",
       "  </tbody>\n",
       "</table>\n",
       "</div>"
      ],
      "text/plain": [
       "     index  Age Gender    ID  Nouns_Comprehension  Verbs_Comprehension  \\\n",
       "204     25    7      f  N852                  100                 96.0   \n",
       "205     26    7      f  N853                   96                100.0   \n",
       "206     27    7      f  N854                  100                100.0   \n",
       "207     28    7      f  N855                  100                100.0   \n",
       "208     29    7      f  N856                   92                 96.0   \n",
       "\n",
       "     Syntax_Comprehension  Nonwords_Comprehension  Discource_Comprehension  \\\n",
       "204                  92.0                   100.0                    100.0   \n",
       "205                  96.0                   100.0                    100.0   \n",
       "206                  92.0                   100.0                    100.0   \n",
       "207                 100.0                   100.0                    100.0   \n",
       "208                  83.0                    96.0                     94.0   \n",
       "\n",
       "     Nonwords_Repetition  Nouns_Production  Verbs_Production  \\\n",
       "204                100.0              96.0              96.0   \n",
       "205                 98.0              96.0              96.0   \n",
       "206                100.0              92.0              96.0   \n",
       "207                100.0              83.0              96.0   \n",
       "208                100.0             100.0             100.0   \n",
       "\n",
       "     Syntax_Production  Syntax_Repetition  \n",
       "204              100.0              100.0  \n",
       "205               99.0              100.0  \n",
       "206               97.0              100.0  \n",
       "207               96.0              100.0  \n",
       "208               97.0              100.0  "
      ]
     },
     "execution_count": 16,
     "metadata": {},
     "output_type": "execute_result"
    }
   ],
   "source": [
    "SQL_Query = pd.read_sql_query('SELECT * FROM Participants', con)\n",
    "SQL_Query.tail()"
   ]
  },
  {
   "cell_type": "markdown",
   "metadata": {},
   "source": [
    "Now let's look at the distribution across all ages and genders."
   ]
  },
  {
   "cell_type": "code",
   "execution_count": 17,
   "metadata": {},
   "outputs": [
    {
     "data": {
      "text/plain": [
       "Age  Gender\n",
       "3    f         20\n",
       "     m         15\n",
       "4    f         29\n",
       "     m         18\n",
       "5    f         22\n",
       "     m         18\n",
       "6    f         34\n",
       "     m         23\n",
       "7    f         16\n",
       "     m         14\n",
       "dtype: int64"
      ]
     },
     "execution_count": 17,
     "metadata": {},
     "output_type": "execute_result"
    }
   ],
   "source": [
    "SQL_Query.groupby(['Age','Gender']).size()"
   ]
  },
  {
   "cell_type": "markdown",
   "metadata": {},
   "source": [
    "We can see that the data is not equally distributed across the groups. Let's still visualize these results to see the proportions better."
   ]
  },
  {
   "cell_type": "code",
   "execution_count": 18,
   "metadata": {},
   "outputs": [
    {
     "data": {
      "image/png": "[encoded data removed]",
      "text/plain": [
       "<Figure size 432x288 with 1 Axes>"
      ]
     },
     "metadata": {
      "needs_background": "light"
     },
     "output_type": "display_data"
    }
   ],
   "source": [
    "my_colors = ('pink', 'lightblue')\n",
    "\n",
    "ag = SQL_Query.groupby(['Age','Gender']).size()\n",
    "ag.plot.bar(color=my_colors);\n",
    "plt.title('Age/Gender distribution')\n",
    "plt.xlabel('Age/Gender')\n",
    "plt.ylabel('Count');\n",
    "\n"
   ]
  },
  {
   "cell_type": "markdown",
   "metadata": {},
   "source": [
    "We can see that age/gender disribution is not equal at all (there are more girls in each age group). We should take that into account, since in standartized language tests the amount of males and females should be around the same for each age group to make any claims. We will continue to work with this data anyway (since we have no choice) but now we know where we lack participants and of what gender. "
   ]
  },
  {
   "cell_type": "markdown",
   "metadata": {},
   "source": [
    "Now let's look at the average scores of each age group in each subtest to see how each group perform. We will also visualize that for more comfortable analysis. "
   ]
  },
  {
   "cell_type": "code",
   "execution_count": 21,
   "metadata": {},
   "outputs": [
    {
     "data": {
      "text/html": [
       "<div>\n",
       "<style scoped>\n",
       "    .dataframe tbody tr th:only-of-type {\n",
       "        vertical-align: middle;\n",
       "    }\n",
       "\n",
       "    .dataframe tbody tr th {\n",
       "        vertical-align: top;\n",
       "    }\n",
       "\n",
       "    .dataframe thead th {\n",
       "        text-align: right;\n",
       "    }\n",
       "</style>\n",
       "<table border=\"1\" class=\"dataframe\">\n",
       "  <thead>\n",
       "    <tr style=\"text-align: right;\">\n",
       "      <th></th>\n",
       "      <th>Nouns_Comprehension</th>\n",
       "      <th>Verbs_Comprehension</th>\n",
       "      <th>Syntax_Comprehension</th>\n",
       "      <th>Nonwords_Comprehension</th>\n",
       "      <th>Discource_Comprehension</th>\n",
       "      <th>Nonwords_Repetition</th>\n",
       "      <th>Nouns_Production</th>\n",
       "      <th>Verbs_Production</th>\n",
       "      <th>Syntax_Production</th>\n",
       "      <th>Syntax_Repetition</th>\n",
       "    </tr>\n",
       "    <tr>\n",
       "      <th>Age</th>\n",
       "      <th></th>\n",
       "      <th></th>\n",
       "      <th></th>\n",
       "      <th></th>\n",
       "      <th></th>\n",
       "      <th></th>\n",
       "      <th></th>\n",
       "      <th></th>\n",
       "      <th></th>\n",
       "      <th></th>\n",
       "    </tr>\n",
       "  </thead>\n",
       "  <tbody>\n",
       "    <tr>\n",
       "      <th>3</th>\n",
       "      <td>78.571429</td>\n",
       "      <td>75.771429</td>\n",
       "      <td>72.968750</td>\n",
       "      <td>72.074074</td>\n",
       "      <td>67.333333</td>\n",
       "      <td>90.454545</td>\n",
       "      <td>61.676471</td>\n",
       "      <td>61.838710</td>\n",
       "      <td>72.000000</td>\n",
       "      <td>74.500000</td>\n",
       "    </tr>\n",
       "    <tr>\n",
       "      <th>4</th>\n",
       "      <td>87.276596</td>\n",
       "      <td>81.260870</td>\n",
       "      <td>80.681818</td>\n",
       "      <td>73.585366</td>\n",
       "      <td>70.974359</td>\n",
       "      <td>93.391304</td>\n",
       "      <td>68.702128</td>\n",
       "      <td>72.000000</td>\n",
       "      <td>84.382353</td>\n",
       "      <td>82.142857</td>\n",
       "    </tr>\n",
       "    <tr>\n",
       "      <th>5</th>\n",
       "      <td>94.125000</td>\n",
       "      <td>90.325000</td>\n",
       "      <td>87.450000</td>\n",
       "      <td>91.825000</td>\n",
       "      <td>85.205128</td>\n",
       "      <td>96.425000</td>\n",
       "      <td>82.075000</td>\n",
       "      <td>80.475000</td>\n",
       "      <td>89.666667</td>\n",
       "      <td>89.900000</td>\n",
       "    </tr>\n",
       "    <tr>\n",
       "      <th>6</th>\n",
       "      <td>95.736842</td>\n",
       "      <td>93.857143</td>\n",
       "      <td>91.315789</td>\n",
       "      <td>94.803571</td>\n",
       "      <td>92.000000</td>\n",
       "      <td>96.807018</td>\n",
       "      <td>87.807018</td>\n",
       "      <td>87.736842</td>\n",
       "      <td>93.962264</td>\n",
       "      <td>92.872727</td>\n",
       "    </tr>\n",
       "    <tr>\n",
       "      <th>7</th>\n",
       "      <td>98.000000</td>\n",
       "      <td>97.066667</td>\n",
       "      <td>92.566667</td>\n",
       "      <td>97.866667</td>\n",
       "      <td>96.533333</td>\n",
       "      <td>98.600000</td>\n",
       "      <td>92.100000</td>\n",
       "      <td>91.833333</td>\n",
       "      <td>94.800000</td>\n",
       "      <td>96.866667</td>\n",
       "    </tr>\n",
       "  </tbody>\n",
       "</table>\n",
       "</div>"
      ],
      "text/plain": [
       "     Nouns_Comprehension  Verbs_Comprehension  Syntax_Comprehension  \\\n",
       "Age                                                                   \n",
       "3              78.571429            75.771429             72.968750   \n",
       "4              87.276596            81.260870             80.681818   \n",
       "5              94.125000            90.325000             87.450000   \n",
       "6              95.736842            93.857143             91.315789   \n",
       "7              98.000000            97.066667             92.566667   \n",
       "\n",
       "     Nonwords_Comprehension  Discource_Comprehension  Nonwords_Repetition  \\\n",
       "Age                                                                         \n",
       "3                 72.074074                67.333333            90.454545   \n",
       "4                 73.585366                70.974359            93.391304   \n",
       "5                 91.825000                85.205128            96.425000   \n",
       "6                 94.803571                92.000000            96.807018   \n",
       "7                 97.866667                96.533333            98.600000   \n",
       "\n",
       "     Nouns_Production  Verbs_Production  Syntax_Production  Syntax_Repetition  \n",
       "Age                                                                            \n",
       "3           61.676471         61.838710          72.000000          74.500000  \n",
       "4           68.702128         72.000000          84.382353          82.142857  \n",
       "5           82.075000         80.475000          89.666667          89.900000  \n",
       "6           87.807018         87.736842          93.962264          92.872727  \n",
       "7           92.100000         91.833333          94.800000          96.866667  "
      ]
     },
     "execution_count": 21,
     "metadata": {},
     "output_type": "execute_result"
    }
   ],
   "source": [
    "SQL_Query.groupby(\"Age\").agg({\"Nouns_Comprehension\": \"mean\", \"Verbs_Comprehension\": \"mean\", \"Syntax_Comprehension\": \"mean\", \"Nonwords_Comprehension\": \"mean\", \"Discource_Comprehension\": \"mean\", \"Nonwords_Repetition\": \"mean\", \"Nouns_Production\": \"mean\", \"Verbs_Production\": \"mean\", \"Syntax_Production\": \"mean\", \"Syntax_Repetition\": \"mean\" })"
   ]
  },
  {
   "cell_type": "code",
   "execution_count": 22,
   "metadata": {},
   "outputs": [
    {
     "data": {
      "image/png": "[encoded data removed]",
      "text/plain": [
       "<Figure size 1440x1440 with 1 Axes>"
      ]
     },
     "metadata": {
      "needs_background": "light"
     },
     "output_type": "display_data"
    }
   ],
   "source": [
    "d = SQL_Query.groupby(\"Age\").agg({\"Nouns_Comprehension\": \"mean\", \"Verbs_Comprehension\": \"mean\", \"Syntax_Comprehension\": \"mean\", \"Nonwords_Comprehension\": \"mean\", \"Discource_Comprehension\": \"mean\", \"Nonwords_Repetition\": \"mean\", \"Nouns_Production\": \"mean\", \"Verbs_Production\": \"mean\", \"Syntax_Production\": \"mean\", \"Syntax_Repetition\": \"mean\" })\n",
    "d.plot.bar(figsize=(20,20));\n",
    "plt.title('Means of all subtests')\n",
    "plt.xlabel('Age')\n",
    "plt.ylabel('Count');"
   ]
  },
  {
   "cell_type": "markdown",
   "metadata": {},
   "source": [
    "Since this table is too big for pleasant visualization, we decided to break it down on several sections, namely, complrehension part, production part and repetition part."
   ]
  },
  {
   "cell_type": "code",
   "execution_count": 23,
   "metadata": {},
   "outputs": [
    {
     "data": {
      "image/png": "[encoded data removed]",
      "text/plain": [
       "<Figure size 864x720 with 1 Axes>"
      ]
     },
     "metadata": {
      "needs_background": "light"
     },
     "output_type": "display_data"
    }
   ],
   "source": [
    "dc = SQL_Query.groupby(\"Age\").agg({\"Nouns_Comprehension\": \"mean\", \"Verbs_Comprehension\": \"mean\", \"Syntax_Comprehension\": \"mean\", \"Nonwords_Comprehension\": \"mean\", \"Discource_Comprehension\": \"mean\" })\n",
    "dc.plot.bar(figsize=(12,10));\n",
    "plt.title('Means of Comprehension subtests')\n",
    "plt.xlabel('Age')\n",
    "plt.ylabel('Count');"
   ]
  },
  {
   "cell_type": "markdown",
   "metadata": {},
   "source": [
    "(Still looks a bit overwhelming and will take some time to look through it but better than what was before)\n",
    "\n"
   ]
  },
  {
   "cell_type": "code",
   "execution_count": 24,
   "metadata": {},
   "outputs": [
    {
     "data": {
      "image/png": "[encoded data removed]",
      "text/plain": [
       "<Figure size 1296x936 with 1 Axes>"
      ]
     },
     "metadata": {
      "needs_background": "light"
     },
     "output_type": "display_data"
    }
   ],
   "source": [
    "dr = SQL_Query.groupby(\"Age\").agg({\"Nonwords_Repetition\": \"mean\", \"Syntax_Repetition\": \"mean\"})\n",
    "dr.plot.bar(figsize=(18,13));\n",
    "plt.title('Means of Repetition subtests')\n",
    "plt.xlabel('Age')\n",
    "plt.ylabel('Count');"
   ]
  },
  {
   "cell_type": "code",
   "execution_count": 25,
   "metadata": {
    "scrolled": false
   },
   "outputs": [
    {
     "data": {
      "image/png": "[encoded data removed]",
      "text/plain": [
       "<Figure size 1296x936 with 1 Axes>"
      ]
     },
     "metadata": {
      "needs_background": "light"
     },
     "output_type": "display_data"
    }
   ],
   "source": [
    "dp = SQL_Query.groupby(\"Age\").agg({\"Nouns_Production\": \"mean\", \"Verbs_Production\": \"mean\", \"Syntax_Production\": \"mean\"})\n",
    "dp.plot.bar(figsize=(18,13));\n",
    "plt.title('Means of Production subtests')\n",
    "plt.xlabel('Age')\n",
    "plt.ylabel('Count');"
   ]
  },
  {
   "cell_type": "markdown",
   "metadata": {},
   "source": [
    "In general we can see that scores in each subtest are growing with the age, which is the way it should be. What is interesting here is that in all age groups children are better at producing sentences than single words."
   ]
  },
  {
   "cell_type": "markdown",
   "metadata": {},
   "source": [
    "Let's also look at means across all subtests. (to see if the situation is the other way there) \n",
    "\n",
    "\n"
   ]
  },
  {
   "cell_type": "code",
   "execution_count": 26,
   "metadata": {},
   "outputs": [],
   "source": [
    "SQL_Query['Mean'] = SQL_Query.iloc[:, 5:14].mean(axis=1)"
   ]
  },
  {
   "cell_type": "markdown",
   "metadata": {},
   "source": [
    "To make the data more or less equal we'll need to exclude all participants who lack at least one subtest result."
   ]
  },
  {
   "cell_type": "code",
   "execution_count": 28,
   "metadata": {},
   "outputs": [],
   "source": [
    "no_na = SQL_Query.dropna()"
   ]
  },
  {
   "cell_type": "code",
   "execution_count": 29,
   "metadata": {
    "scrolled": true
   },
   "outputs": [
    {
     "data": {
      "text/html": [
       "<div>\n",
       "<style scoped>\n",
       "    .dataframe tbody tr th:only-of-type {\n",
       "        vertical-align: middle;\n",
       "    }\n",
       "\n",
       "    .dataframe tbody tr th {\n",
       "        vertical-align: top;\n",
       "    }\n",
       "\n",
       "    .dataframe thead th {\n",
       "        text-align: right;\n",
       "    }\n",
       "</style>\n",
       "<table border=\"1\" class=\"dataframe\">\n",
       "  <thead>\n",
       "    <tr style=\"text-align: right;\">\n",
       "      <th></th>\n",
       "      <th>Mean</th>\n",
       "    </tr>\n",
       "    <tr>\n",
       "      <th>Age</th>\n",
       "      <th></th>\n",
       "    </tr>\n",
       "  </thead>\n",
       "  <tbody>\n",
       "    <tr>\n",
       "      <th>3</th>\n",
       "      <td>75.944444</td>\n",
       "    </tr>\n",
       "    <tr>\n",
       "      <th>4</th>\n",
       "      <td>80.650794</td>\n",
       "    </tr>\n",
       "    <tr>\n",
       "      <th>5</th>\n",
       "      <td>88.494152</td>\n",
       "    </tr>\n",
       "    <tr>\n",
       "      <th>6</th>\n",
       "      <td>92.564270</td>\n",
       "    </tr>\n",
       "    <tr>\n",
       "      <th>7</th>\n",
       "      <td>95.359259</td>\n",
       "    </tr>\n",
       "  </tbody>\n",
       "</table>\n",
       "</div>"
      ],
      "text/plain": [
       "          Mean\n",
       "Age           \n",
       "3    75.944444\n",
       "4    80.650794\n",
       "5    88.494152\n",
       "6    92.564270\n",
       "7    95.359259"
      ]
     },
     "execution_count": 29,
     "metadata": {},
     "output_type": "execute_result"
    }
   ],
   "source": [
    "no_na.groupby([\"Age\"]).agg({\"Mean\": \"mean\"})"
   ]
  },
  {
   "cell_type": "code",
   "execution_count": 123,
   "metadata": {},
   "outputs": [
    {
     "data": {
      "image/png": "[encoded data removed]",
      "text/plain": [
       "<Figure size 432x288 with 1 Axes>"
      ]
     },
     "metadata": {
      "needs_background": "light"
     },
     "output_type": "display_data"
    }
   ],
   "source": [
    "no_na.groupby([\"Age\"]).agg({\"Mean\": \"mean\"}).plot.bar(color='pink');\n",
    "plt.title('Means across all subtests')\n",
    "plt.xlabel('Age')\n",
    "plt.ylabel('Count');\n"
   ]
  },
  {
   "cell_type": "markdown",
   "metadata": {},
   "source": [
    "All in all, the results show the same growing tendency as the results for each subtest. That indicates that the data that we work with is more or less reliable as well as the test (of course, for more profound conclusions we would need to investigate test/re-test results but, unfortunately, we do not have that data now)."
   ]
  },
  {
   "cell_type": "markdown",
   "metadata": {},
   "source": [
    "Now let's look at our maximum and minimum values, and how they differ from the mean."
   ]
  },
  {
   "cell_type": "code",
   "execution_count": 31,
   "metadata": {},
   "outputs": [
    {
     "data": {
      "text/html": [
       "<div>\n",
       "<style scoped>\n",
       "    .dataframe tbody tr th:only-of-type {\n",
       "        vertical-align: middle;\n",
       "    }\n",
       "\n",
       "    .dataframe tbody tr th {\n",
       "        vertical-align: top;\n",
       "    }\n",
       "\n",
       "    .dataframe thead th {\n",
       "        text-align: right;\n",
       "    }\n",
       "</style>\n",
       "<table border=\"1\" class=\"dataframe\">\n",
       "  <thead>\n",
       "    <tr style=\"text-align: right;\">\n",
       "      <th></th>\n",
       "      <th></th>\n",
       "      <th>Nouns_Comprehension</th>\n",
       "      <th>Verbs_Comprehension</th>\n",
       "      <th>Syntax_Comprehension</th>\n",
       "      <th>Nonwords_Comprehension</th>\n",
       "      <th>Discource_Comprehension</th>\n",
       "      <th>Nonwords_Repetition</th>\n",
       "      <th>Nouns_Production</th>\n",
       "      <th>Verbs_Production</th>\n",
       "      <th>Syntax_Production</th>\n",
       "      <th>Syntax_Repetition</th>\n",
       "    </tr>\n",
       "    <tr>\n",
       "      <th>Age</th>\n",
       "      <th>Gender</th>\n",
       "      <th></th>\n",
       "      <th></th>\n",
       "      <th></th>\n",
       "      <th></th>\n",
       "      <th></th>\n",
       "      <th></th>\n",
       "      <th></th>\n",
       "      <th></th>\n",
       "      <th></th>\n",
       "      <th></th>\n",
       "    </tr>\n",
       "  </thead>\n",
       "  <tbody>\n",
       "    <tr>\n",
       "      <th rowspan=\"2\" valign=\"top\">3</th>\n",
       "      <th>f</th>\n",
       "      <td>100</td>\n",
       "      <td>92.0</td>\n",
       "      <td>96.0</td>\n",
       "      <td>100.0</td>\n",
       "      <td>100.0</td>\n",
       "      <td>100.0</td>\n",
       "      <td>83.0</td>\n",
       "      <td>79.0</td>\n",
       "      <td>93.0</td>\n",
       "      <td>98.0</td>\n",
       "    </tr>\n",
       "    <tr>\n",
       "      <th>m</th>\n",
       "      <td>100</td>\n",
       "      <td>96.0</td>\n",
       "      <td>100.0</td>\n",
       "      <td>100.0</td>\n",
       "      <td>100.0</td>\n",
       "      <td>100.0</td>\n",
       "      <td>96.0</td>\n",
       "      <td>92.0</td>\n",
       "      <td>98.0</td>\n",
       "      <td>95.0</td>\n",
       "    </tr>\n",
       "    <tr>\n",
       "      <th rowspan=\"2\" valign=\"top\">4</th>\n",
       "      <th>f</th>\n",
       "      <td>100</td>\n",
       "      <td>100.0</td>\n",
       "      <td>100.0</td>\n",
       "      <td>100.0</td>\n",
       "      <td>100.0</td>\n",
       "      <td>100.0</td>\n",
       "      <td>100.0</td>\n",
       "      <td>96.0</td>\n",
       "      <td>95.0</td>\n",
       "      <td>98.0</td>\n",
       "    </tr>\n",
       "    <tr>\n",
       "      <th>m</th>\n",
       "      <td>100</td>\n",
       "      <td>100.0</td>\n",
       "      <td>92.0</td>\n",
       "      <td>100.0</td>\n",
       "      <td>94.0</td>\n",
       "      <td>98.0</td>\n",
       "      <td>96.0</td>\n",
       "      <td>79.0</td>\n",
       "      <td>95.0</td>\n",
       "      <td>97.0</td>\n",
       "    </tr>\n",
       "    <tr>\n",
       "      <th rowspan=\"2\" valign=\"top\">5</th>\n",
       "      <th>f</th>\n",
       "      <td>100</td>\n",
       "      <td>100.0</td>\n",
       "      <td>100.0</td>\n",
       "      <td>100.0</td>\n",
       "      <td>100.0</td>\n",
       "      <td>100.0</td>\n",
       "      <td>96.0</td>\n",
       "      <td>96.0</td>\n",
       "      <td>99.0</td>\n",
       "      <td>100.0</td>\n",
       "    </tr>\n",
       "    <tr>\n",
       "      <th>m</th>\n",
       "      <td>100</td>\n",
       "      <td>100.0</td>\n",
       "      <td>100.0</td>\n",
       "      <td>100.0</td>\n",
       "      <td>100.0</td>\n",
       "      <td>100.0</td>\n",
       "      <td>96.0</td>\n",
       "      <td>100.0</td>\n",
       "      <td>97.0</td>\n",
       "      <td>100.0</td>\n",
       "    </tr>\n",
       "    <tr>\n",
       "      <th rowspan=\"2\" valign=\"top\">6</th>\n",
       "      <th>f</th>\n",
       "      <td>100</td>\n",
       "      <td>100.0</td>\n",
       "      <td>100.0</td>\n",
       "      <td>100.0</td>\n",
       "      <td>100.0</td>\n",
       "      <td>100.0</td>\n",
       "      <td>100.0</td>\n",
       "      <td>100.0</td>\n",
       "      <td>100.0</td>\n",
       "      <td>100.0</td>\n",
       "    </tr>\n",
       "    <tr>\n",
       "      <th>m</th>\n",
       "      <td>100</td>\n",
       "      <td>100.0</td>\n",
       "      <td>96.0</td>\n",
       "      <td>100.0</td>\n",
       "      <td>100.0</td>\n",
       "      <td>100.0</td>\n",
       "      <td>100.0</td>\n",
       "      <td>100.0</td>\n",
       "      <td>100.0</td>\n",
       "      <td>100.0</td>\n",
       "    </tr>\n",
       "    <tr>\n",
       "      <th rowspan=\"2\" valign=\"top\">7</th>\n",
       "      <th>f</th>\n",
       "      <td>100</td>\n",
       "      <td>100.0</td>\n",
       "      <td>100.0</td>\n",
       "      <td>100.0</td>\n",
       "      <td>100.0</td>\n",
       "      <td>100.0</td>\n",
       "      <td>100.0</td>\n",
       "      <td>100.0</td>\n",
       "      <td>100.0</td>\n",
       "      <td>100.0</td>\n",
       "    </tr>\n",
       "    <tr>\n",
       "      <th>m</th>\n",
       "      <td>100</td>\n",
       "      <td>100.0</td>\n",
       "      <td>100.0</td>\n",
       "      <td>100.0</td>\n",
       "      <td>100.0</td>\n",
       "      <td>100.0</td>\n",
       "      <td>100.0</td>\n",
       "      <td>100.0</td>\n",
       "      <td>99.0</td>\n",
       "      <td>100.0</td>\n",
       "    </tr>\n",
       "  </tbody>\n",
       "</table>\n",
       "</div>"
      ],
      "text/plain": [
       "            Nouns_Comprehension  Verbs_Comprehension  Syntax_Comprehension  \\\n",
       "Age Gender                                                                   \n",
       "3   f                       100                 92.0                  96.0   \n",
       "    m                       100                 96.0                 100.0   \n",
       "4   f                       100                100.0                 100.0   \n",
       "    m                       100                100.0                  92.0   \n",
       "5   f                       100                100.0                 100.0   \n",
       "    m                       100                100.0                 100.0   \n",
       "6   f                       100                100.0                 100.0   \n",
       "    m                       100                100.0                  96.0   \n",
       "7   f                       100                100.0                 100.0   \n",
       "    m                       100                100.0                 100.0   \n",
       "\n",
       "            Nonwords_Comprehension  Discource_Comprehension  \\\n",
       "Age Gender                                                    \n",
       "3   f                        100.0                    100.0   \n",
       "    m                        100.0                    100.0   \n",
       "4   f                        100.0                    100.0   \n",
       "    m                        100.0                     94.0   \n",
       "5   f                        100.0                    100.0   \n",
       "    m                        100.0                    100.0   \n",
       "6   f                        100.0                    100.0   \n",
       "    m                        100.0                    100.0   \n",
       "7   f                        100.0                    100.0   \n",
       "    m                        100.0                    100.0   \n",
       "\n",
       "            Nonwords_Repetition  Nouns_Production  Verbs_Production  \\\n",
       "Age Gender                                                            \n",
       "3   f                     100.0              83.0              79.0   \n",
       "    m                     100.0              96.0              92.0   \n",
       "4   f                     100.0             100.0              96.0   \n",
       "    m                      98.0              96.0              79.0   \n",
       "5   f                     100.0              96.0              96.0   \n",
       "    m                     100.0              96.0             100.0   \n",
       "6   f                     100.0             100.0             100.0   \n",
       "    m                     100.0             100.0             100.0   \n",
       "7   f                     100.0             100.0             100.0   \n",
       "    m                     100.0             100.0             100.0   \n",
       "\n",
       "            Syntax_Production  Syntax_Repetition  \n",
       "Age Gender                                        \n",
       "3   f                    93.0               98.0  \n",
       "    m                    98.0               95.0  \n",
       "4   f                    95.0               98.0  \n",
       "    m                    95.0               97.0  \n",
       "5   f                    99.0              100.0  \n",
       "    m                    97.0              100.0  \n",
       "6   f                   100.0              100.0  \n",
       "    m                   100.0              100.0  \n",
       "7   f                   100.0              100.0  \n",
       "    m                    99.0              100.0  "
      ]
     },
     "execution_count": 31,
     "metadata": {},
     "output_type": "execute_result"
    }
   ],
   "source": [
    "SQL_Query.groupby([\"Age\", 'Gender']).agg({\"Nouns_Comprehension\": \"max\",  \"Verbs_Comprehension\": \"max\", \"Syntax_Comprehension\": \"max\", \"Nonwords_Comprehension\": \"max\", \"Discource_Comprehension\": \"max\",  \"Nonwords_Repetition\": \"max\", \"Nouns_Production\": \"max\", \"Verbs_Production\": \"max\", \"Syntax_Production\": \"max\", \"Syntax_Repetition\": \"max\"})"
   ]
  },
  {
   "cell_type": "code",
   "execution_count": 32,
   "metadata": {},
   "outputs": [
    {
     "data": {
      "text/html": [
       "<div>\n",
       "<style scoped>\n",
       "    .dataframe tbody tr th:only-of-type {\n",
       "        vertical-align: middle;\n",
       "    }\n",
       "\n",
       "    .dataframe tbody tr th {\n",
       "        vertical-align: top;\n",
       "    }\n",
       "\n",
       "    .dataframe thead th {\n",
       "        text-align: right;\n",
       "    }\n",
       "</style>\n",
       "<table border=\"1\" class=\"dataframe\">\n",
       "  <thead>\n",
       "    <tr style=\"text-align: right;\">\n",
       "      <th></th>\n",
       "      <th></th>\n",
       "      <th>Nouns_Comprehension</th>\n",
       "      <th>Verbs_Comprehension</th>\n",
       "      <th>Syntax_Comprehension</th>\n",
       "      <th>Nonwords_Comprehension</th>\n",
       "      <th>Discource_Comprehension</th>\n",
       "      <th>Nonwords_Repetition</th>\n",
       "      <th>Nouns_Production</th>\n",
       "      <th>Verbs_Production</th>\n",
       "      <th>Syntax_Production</th>\n",
       "      <th>Syntax_Repetition</th>\n",
       "    </tr>\n",
       "    <tr>\n",
       "      <th>Age</th>\n",
       "      <th>Gender</th>\n",
       "      <th></th>\n",
       "      <th></th>\n",
       "      <th></th>\n",
       "      <th></th>\n",
       "      <th></th>\n",
       "      <th></th>\n",
       "      <th></th>\n",
       "      <th></th>\n",
       "      <th></th>\n",
       "      <th></th>\n",
       "    </tr>\n",
       "  </thead>\n",
       "  <tbody>\n",
       "    <tr>\n",
       "      <th rowspan=\"2\" valign=\"top\">3</th>\n",
       "      <th>f</th>\n",
       "      <td>58</td>\n",
       "      <td>50.0</td>\n",
       "      <td>33.0</td>\n",
       "      <td>8.0</td>\n",
       "      <td>19.0</td>\n",
       "      <td>50.0</td>\n",
       "      <td>29.0</td>\n",
       "      <td>21.0</td>\n",
       "      <td>10.0</td>\n",
       "      <td>14.0</td>\n",
       "    </tr>\n",
       "    <tr>\n",
       "      <th>m</th>\n",
       "      <td>50</td>\n",
       "      <td>38.0</td>\n",
       "      <td>46.0</td>\n",
       "      <td>17.0</td>\n",
       "      <td>44.0</td>\n",
       "      <td>46.0</td>\n",
       "      <td>42.0</td>\n",
       "      <td>13.0</td>\n",
       "      <td>52.0</td>\n",
       "      <td>62.0</td>\n",
       "    </tr>\n",
       "    <tr>\n",
       "      <th rowspan=\"2\" valign=\"top\">4</th>\n",
       "      <th>f</th>\n",
       "      <td>75</td>\n",
       "      <td>46.0</td>\n",
       "      <td>67.0</td>\n",
       "      <td>13.0</td>\n",
       "      <td>25.0</td>\n",
       "      <td>73.0</td>\n",
       "      <td>46.0</td>\n",
       "      <td>46.0</td>\n",
       "      <td>67.0</td>\n",
       "      <td>15.0</td>\n",
       "    </tr>\n",
       "    <tr>\n",
       "      <th>m</th>\n",
       "      <td>67</td>\n",
       "      <td>25.0</td>\n",
       "      <td>50.0</td>\n",
       "      <td>17.0</td>\n",
       "      <td>50.0</td>\n",
       "      <td>71.0</td>\n",
       "      <td>42.0</td>\n",
       "      <td>50.0</td>\n",
       "      <td>36.0</td>\n",
       "      <td>52.0</td>\n",
       "    </tr>\n",
       "    <tr>\n",
       "      <th rowspan=\"2\" valign=\"top\">5</th>\n",
       "      <th>f</th>\n",
       "      <td>75</td>\n",
       "      <td>75.0</td>\n",
       "      <td>67.0</td>\n",
       "      <td>17.0</td>\n",
       "      <td>50.0</td>\n",
       "      <td>79.0</td>\n",
       "      <td>59.0</td>\n",
       "      <td>63.0</td>\n",
       "      <td>76.0</td>\n",
       "      <td>66.0</td>\n",
       "    </tr>\n",
       "    <tr>\n",
       "      <th>m</th>\n",
       "      <td>71</td>\n",
       "      <td>71.0</td>\n",
       "      <td>67.0</td>\n",
       "      <td>83.0</td>\n",
       "      <td>63.0</td>\n",
       "      <td>92.0</td>\n",
       "      <td>67.0</td>\n",
       "      <td>21.0</td>\n",
       "      <td>75.0</td>\n",
       "      <td>69.0</td>\n",
       "    </tr>\n",
       "    <tr>\n",
       "      <th rowspan=\"2\" valign=\"top\">6</th>\n",
       "      <th>f</th>\n",
       "      <td>79</td>\n",
       "      <td>79.0</td>\n",
       "      <td>79.0</td>\n",
       "      <td>79.0</td>\n",
       "      <td>63.0</td>\n",
       "      <td>83.0</td>\n",
       "      <td>67.0</td>\n",
       "      <td>67.0</td>\n",
       "      <td>87.0</td>\n",
       "      <td>70.0</td>\n",
       "    </tr>\n",
       "    <tr>\n",
       "      <th>m</th>\n",
       "      <td>58</td>\n",
       "      <td>71.0</td>\n",
       "      <td>67.0</td>\n",
       "      <td>42.0</td>\n",
       "      <td>56.0</td>\n",
       "      <td>77.0</td>\n",
       "      <td>63.0</td>\n",
       "      <td>63.0</td>\n",
       "      <td>84.0</td>\n",
       "      <td>77.0</td>\n",
       "    </tr>\n",
       "    <tr>\n",
       "      <th rowspan=\"2\" valign=\"top\">7</th>\n",
       "      <th>f</th>\n",
       "      <td>92</td>\n",
       "      <td>92.0</td>\n",
       "      <td>83.0</td>\n",
       "      <td>88.0</td>\n",
       "      <td>56.0</td>\n",
       "      <td>96.0</td>\n",
       "      <td>1.0</td>\n",
       "      <td>67.0</td>\n",
       "      <td>85.0</td>\n",
       "      <td>83.0</td>\n",
       "    </tr>\n",
       "    <tr>\n",
       "      <th>m</th>\n",
       "      <td>92</td>\n",
       "      <td>88.0</td>\n",
       "      <td>67.0</td>\n",
       "      <td>88.0</td>\n",
       "      <td>88.0</td>\n",
       "      <td>92.0</td>\n",
       "      <td>88.0</td>\n",
       "      <td>75.0</td>\n",
       "      <td>85.0</td>\n",
       "      <td>87.0</td>\n",
       "    </tr>\n",
       "  </tbody>\n",
       "</table>\n",
       "</div>"
      ],
      "text/plain": [
       "            Nouns_Comprehension  Verbs_Comprehension  Syntax_Comprehension  \\\n",
       "Age Gender                                                                   \n",
       "3   f                        58                 50.0                  33.0   \n",
       "    m                        50                 38.0                  46.0   \n",
       "4   f                        75                 46.0                  67.0   \n",
       "    m                        67                 25.0                  50.0   \n",
       "5   f                        75                 75.0                  67.0   \n",
       "    m                        71                 71.0                  67.0   \n",
       "6   f                        79                 79.0                  79.0   \n",
       "    m                        58                 71.0                  67.0   \n",
       "7   f                        92                 92.0                  83.0   \n",
       "    m                        92                 88.0                  67.0   \n",
       "\n",
       "            Nonwords_Comprehension  Discource_Comprehension  \\\n",
       "Age Gender                                                    \n",
       "3   f                          8.0                     19.0   \n",
       "    m                         17.0                     44.0   \n",
       "4   f                         13.0                     25.0   \n",
       "    m                         17.0                     50.0   \n",
       "5   f                         17.0                     50.0   \n",
       "    m                         83.0                     63.0   \n",
       "6   f                         79.0                     63.0   \n",
       "    m                         42.0                     56.0   \n",
       "7   f                         88.0                     56.0   \n",
       "    m                         88.0                     88.0   \n",
       "\n",
       "            Nonwords_Repetition  Nouns_Production  Verbs_Production  \\\n",
       "Age Gender                                                            \n",
       "3   f                      50.0              29.0              21.0   \n",
       "    m                      46.0              42.0              13.0   \n",
       "4   f                      73.0              46.0              46.0   \n",
       "    m                      71.0              42.0              50.0   \n",
       "5   f                      79.0              59.0              63.0   \n",
       "    m                      92.0              67.0              21.0   \n",
       "6   f                      83.0              67.0              67.0   \n",
       "    m                      77.0              63.0              63.0   \n",
       "7   f                      96.0               1.0              67.0   \n",
       "    m                      92.0              88.0              75.0   \n",
       "\n",
       "            Syntax_Production  Syntax_Repetition  \n",
       "Age Gender                                        \n",
       "3   f                    10.0               14.0  \n",
       "    m                    52.0               62.0  \n",
       "4   f                    67.0               15.0  \n",
       "    m                    36.0               52.0  \n",
       "5   f                    76.0               66.0  \n",
       "    m                    75.0               69.0  \n",
       "6   f                    87.0               70.0  \n",
       "    m                    84.0               77.0  \n",
       "7   f                    85.0               83.0  \n",
       "    m                    85.0               87.0  "
      ]
     },
     "execution_count": 32,
     "metadata": {},
     "output_type": "execute_result"
    }
   ],
   "source": [
    "SQL_Query.groupby([\"Age\", \"Gender\"]).agg({\"Nouns_Comprehension\": \"min\",  \"Verbs_Comprehension\": \"min\", \"Syntax_Comprehension\": \"min\", \"Nonwords_Comprehension\": \"min\", \"Discource_Comprehension\": \"min\",  \"Nonwords_Repetition\": \"min\", \"Nouns_Production\": \"min\", \"Verbs_Production\": \"min\", \"Syntax_Production\": \"min\", \"Syntax_Repetition\": \"min\"})"
   ]
  },
  {
   "cell_type": "markdown",
   "metadata": {},
   "source": [
    "We see here that in many subtests min and max values differ, with some values deviating quite a bit from the mean, which might not be a good sign. \n",
    "\n",
    "So let's visualize our data and check the variety and the number of outliers we've got. "
   ]
  },
  {
   "cell_type": "code",
   "execution_count": 33,
   "metadata": {
    "scrolled": false
   },
   "outputs": [
    {
     "data": {
      "image/png": "[encoded data removed]",
      "text/plain": [
       "<Figure size 720x432 with 1 Axes>"
      ]
     },
     "metadata": {
      "needs_background": "light"
     },
     "output_type": "display_data"
    }
   ],
   "source": [
    "plt.figure(figsize=(10, 6))\n",
    "sns.boxplot(x=\"Age\", y=\"Nouns_Comprehension\", data=SQL_Query)\n",
    "plt.ylim((40, 120))\n",
    "plt.title('Nouns comprehension')\n",
    "plt.ylabel('Scores')\n",
    "plt.xlabel('Age Groups');"
   ]
  },
  {
   "cell_type": "code",
   "execution_count": 34,
   "metadata": {},
   "outputs": [
    {
     "data": {
      "image/png": "[encoded data removed]",
      "text/plain": [
       "<Figure size 720x432 with 1 Axes>"
      ]
     },
     "metadata": {
      "needs_background": "light"
     },
     "output_type": "display_data"
    }
   ],
   "source": [
    "plt.figure(figsize=(10, 6))\n",
    "sns.boxplot(x=\"Age\", y=\"Nouns_Production\", data=SQL_Query)\n",
    "plt.ylim((20, 120))\n",
    "plt.title('Nouns production')\n",
    "plt.ylabel('Scores')\n",
    "plt.xlabel('Age Groups');"
   ]
  },
  {
   "cell_type": "code",
   "execution_count": 35,
   "metadata": {},
   "outputs": [
    {
     "data": {
      "image/png": "[encoded data removed]",
      "text/plain": [
       "<Figure size 720x432 with 1 Axes>"
      ]
     },
     "metadata": {
      "needs_background": "light"
     },
     "output_type": "display_data"
    }
   ],
   "source": [
    "plt.figure(figsize=(10, 6))\n",
    "sns.boxplot(x=\"Age\", y=\"Syntax_Comprehension\", data=SQL_Query)\n",
    "plt.ylim((20, 120))\n",
    "plt.title('Syntax Comprehension')\n",
    "plt.ylabel('Scores')\n",
    "plt.xlabel('Age Groups');"
   ]
  },
  {
   "cell_type": "code",
   "execution_count": 36,
   "metadata": {},
   "outputs": [
    {
     "data": {
      "image/png": "[encoded data removed]",
      "text/plain": [
       "<Figure size 720x432 with 1 Axes>"
      ]
     },
     "metadata": {
      "needs_background": "light"
     },
     "output_type": "display_data"
    }
   ],
   "source": [
    "plt.figure(figsize=(10, 6))\n",
    "sns.boxplot(x=\"Age\", y=\"Nonwords_Comprehension\", data=SQL_Query)\n",
    "plt.ylim((0, 120))\n",
    "plt.title('Nonwords Comprehension')\n",
    "plt.ylabel('Scores')\n",
    "plt.xlabel('Age Groups');"
   ]
  },
  {
   "cell_type": "code",
   "execution_count": 37,
   "metadata": {},
   "outputs": [
    {
     "data": {
      "image/png": "[encoded data removed]",
      "text/plain": [
       "<Figure size 720x432 with 1 Axes>"
      ]
     },
     "metadata": {
      "needs_background": "light"
     },
     "output_type": "display_data"
    }
   ],
   "source": [
    "plt.figure(figsize=(10, 6))\n",
    "sns.boxplot(x=\"Age\", y=\"Discource_Comprehension\", data=SQL_Query)\n",
    "plt.ylim((0, 120))\n",
    "plt.title('Discource Comprehension')\n",
    "plt.ylabel('Scores')\n",
    "plt.xlabel('Age Groups');"
   ]
  },
  {
   "cell_type": "code",
   "execution_count": 38,
   "metadata": {},
   "outputs": [
    {
     "data": {
      "image/png": "[encoded data removed]",
      "text/plain": [
       "<Figure size 720x432 with 1 Axes>"
      ]
     },
     "metadata": {
      "needs_background": "light"
     },
     "output_type": "display_data"
    }
   ],
   "source": [
    "plt.figure(figsize=(10, 6))\n",
    "sns.boxplot(x=\"Age\", y=\"Nonwords_Repetition\", data=SQL_Query)\n",
    "plt.ylim((0, 120))\n",
    "plt.title('Nonwords Repetition')\n",
    "plt.ylabel('Scores')\n",
    "plt.xlabel('Age Groups');"
   ]
  },
  {
   "cell_type": "code",
   "execution_count": 39,
   "metadata": {},
   "outputs": [
    {
     "data": {
      "image/png": "[encoded data removed]",
      "text/plain": [
       "<Figure size 720x432 with 1 Axes>"
      ]
     },
     "metadata": {
      "needs_background": "light"
     },
     "output_type": "display_data"
    }
   ],
   "source": [
    "plt.figure(figsize=(10, 6))\n",
    "sns.boxplot(x=\"Age\", y=\"Nouns_Production\", data=SQL_Query)\n",
    "plt.ylim((0, 120))\n",
    "plt.title('Nouns Production')\n",
    "plt.ylabel('Scores')\n",
    "plt.xlabel('Age Groups');"
   ]
  },
  {
   "cell_type": "code",
   "execution_count": 40,
   "metadata": {},
   "outputs": [
    {
     "data": {
      "image/png": "[encoded data removed]",
      "text/plain": [
       "<Figure size 720x432 with 1 Axes>"
      ]
     },
     "metadata": {
      "needs_background": "light"
     },
     "output_type": "display_data"
    }
   ],
   "source": [
    "plt.figure(figsize=(10, 6))\n",
    "sns.boxplot(x=\"Age\", y=\"Verbs_Production\", data=SQL_Query)\n",
    "plt.ylim((0, 120))\n",
    "plt.title('Verbs Production')\n",
    "plt.ylabel('Scores')\n",
    "plt.xlabel('Age Groups');"
   ]
  },
  {
   "cell_type": "code",
   "execution_count": 41,
   "metadata": {},
   "outputs": [
    {
     "data": {
      "image/png": "[encoded data removed]",
      "text/plain": [
       "<Figure size 720x432 with 1 Axes>"
      ]
     },
     "metadata": {
      "needs_background": "light"
     },
     "output_type": "display_data"
    }
   ],
   "source": [
    "plt.figure(figsize=(10, 6))\n",
    "sns.boxplot(x=\"Age\", y=\"Syntax_Production\", data=SQL_Query)\n",
    "plt.ylim((0, 120))\n",
    "plt.title('Syntax Production')\n",
    "plt.ylabel('Scores')\n",
    "plt.xlabel('Age Groups');"
   ]
  },
  {
   "cell_type": "code",
   "execution_count": 42,
   "metadata": {},
   "outputs": [
    {
     "data": {
      "image/png": "[encoded data removed]",
      "text/plain": [
       "<Figure size 720x432 with 1 Axes>"
      ]
     },
     "metadata": {
      "needs_background": "light"
     },
     "output_type": "display_data"
    }
   ],
   "source": [
    "plt.figure(figsize=(10, 6))\n",
    "sns.boxplot(x=\"Age\", y=\"Syntax_Repetition\", data=SQL_Query)\n",
    "plt.ylim((0, 120))\n",
    "plt.title('Syntax Repetition')\n",
    "plt.ylabel('Scores')\n",
    "plt.xlabel('Age Groups');"
   ]
  },
  {
   "cell_type": "markdown",
   "metadata": {},
   "source": [
    "In general we can see that tendency is more or less the same across all subtests, namely, results are much more varied at 3 years old and they disperse less and less later on for older children. These results coinside with the previous research of speech language pathologists, since, generally, it is normal when children perform differently at younger age but later on (at 6-7 years old) all children should show more or less same results. Otherwise, underperformed children of 6-7 years old would be considered not typically developing and would need special classes. \n",
    "\n",
    "We can see some outliers in production tasks in 3 and 4 years old. It also seems normal, since these are just cases when a child started the subtest but could not finish it because it was too hard. Genarally, it is totally fine, when 3-4 year olds could not finish all sutests and have better comand of impressive and not expressive language. \n",
    "\n",
    "On the other hand, the outlier in other age groups need much more investigation (what was the reason for such low score), and perhaps they should be excluded from the analysis (e.g. if the child shows anomally low score across all subtests or all production subtest; was the reason for that the underdevelopment of speech or just poor understanding of instructions).\n",
    "\n",
    "\n",
    "\n",
    "\n",
    "Next we will look at lowest 5%. This score we will be used in the future to identify if child falls within the typically developing group or not. "
   ]
  },
  {
   "cell_type": "code",
   "execution_count": 43,
   "metadata": {},
   "outputs": [
    {
     "data": {
      "text/html": [
       "<div>\n",
       "<style scoped>\n",
       "    .dataframe tbody tr th:only-of-type {\n",
       "        vertical-align: middle;\n",
       "    }\n",
       "\n",
       "    .dataframe tbody tr th {\n",
       "        vertical-align: top;\n",
       "    }\n",
       "\n",
       "    .dataframe thead th {\n",
       "        text-align: right;\n",
       "    }\n",
       "</style>\n",
       "<table border=\"1\" class=\"dataframe\">\n",
       "  <thead>\n",
       "    <tr style=\"text-align: right;\">\n",
       "      <th>0.05</th>\n",
       "      <th>index</th>\n",
       "      <th>Nouns_Comprehension</th>\n",
       "      <th>Verbs_Comprehension</th>\n",
       "      <th>Syntax_Comprehension</th>\n",
       "      <th>Nonwords_Comprehension</th>\n",
       "      <th>Discource_Comprehension</th>\n",
       "      <th>Nonwords_Repetition</th>\n",
       "      <th>Nouns_Production</th>\n",
       "      <th>Verbs_Production</th>\n",
       "      <th>Syntax_Production</th>\n",
       "      <th>Syntax_Repetition</th>\n",
       "      <th>Mean</th>\n",
       "    </tr>\n",
       "    <tr>\n",
       "      <th>Age</th>\n",
       "      <th></th>\n",
       "      <th></th>\n",
       "      <th></th>\n",
       "      <th></th>\n",
       "      <th></th>\n",
       "      <th></th>\n",
       "      <th></th>\n",
       "      <th></th>\n",
       "      <th></th>\n",
       "      <th></th>\n",
       "      <th></th>\n",
       "      <th></th>\n",
       "    </tr>\n",
       "  </thead>\n",
       "  <tbody>\n",
       "    <tr>\n",
       "      <th>3</th>\n",
       "      <td>1.70</td>\n",
       "      <td>55.6</td>\n",
       "      <td>52.8</td>\n",
       "      <td>46.0</td>\n",
       "      <td>24.5</td>\n",
       "      <td>30.7</td>\n",
       "      <td>56.0</td>\n",
       "      <td>38.85</td>\n",
       "      <td>31.5</td>\n",
       "      <td>26.40</td>\n",
       "      <td>55.50</td>\n",
       "      <td>48.012500</td>\n",
       "    </tr>\n",
       "    <tr>\n",
       "      <th>4</th>\n",
       "      <td>2.30</td>\n",
       "      <td>72.2</td>\n",
       "      <td>49.0</td>\n",
       "      <td>63.6</td>\n",
       "      <td>25.0</td>\n",
       "      <td>50.0</td>\n",
       "      <td>75.0</td>\n",
       "      <td>47.20</td>\n",
       "      <td>50.0</td>\n",
       "      <td>65.95</td>\n",
       "      <td>52.55</td>\n",
       "      <td>60.670000</td>\n",
       "    </tr>\n",
       "    <tr>\n",
       "      <th>5</th>\n",
       "      <td>1.95</td>\n",
       "      <td>82.6</td>\n",
       "      <td>75.0</td>\n",
       "      <td>70.8</td>\n",
       "      <td>80.1</td>\n",
       "      <td>63.0</td>\n",
       "      <td>89.9</td>\n",
       "      <td>66.80</td>\n",
       "      <td>62.8</td>\n",
       "      <td>76.90</td>\n",
       "      <td>74.70</td>\n",
       "      <td>80.074306</td>\n",
       "    </tr>\n",
       "    <tr>\n",
       "      <th>6</th>\n",
       "      <td>2.80</td>\n",
       "      <td>88.0</td>\n",
       "      <td>82.0</td>\n",
       "      <td>79.0</td>\n",
       "      <td>79.0</td>\n",
       "      <td>67.8</td>\n",
       "      <td>84.6</td>\n",
       "      <td>71.00</td>\n",
       "      <td>67.0</td>\n",
       "      <td>88.80</td>\n",
       "      <td>77.70</td>\n",
       "      <td>83.355556</td>\n",
       "    </tr>\n",
       "    <tr>\n",
       "      <th>7</th>\n",
       "      <td>1.45</td>\n",
       "      <td>92.0</td>\n",
       "      <td>92.0</td>\n",
       "      <td>78.6</td>\n",
       "      <td>89.8</td>\n",
       "      <td>88.0</td>\n",
       "      <td>94.0</td>\n",
       "      <td>80.80</td>\n",
       "      <td>78.6</td>\n",
       "      <td>85.45</td>\n",
       "      <td>87.90</td>\n",
       "      <td>87.272222</td>\n",
       "    </tr>\n",
       "  </tbody>\n",
       "</table>\n",
       "</div>"
      ],
      "text/plain": [
       "0.05  index  Nouns_Comprehension  Verbs_Comprehension  Syntax_Comprehension  \\\n",
       "Age                                                                           \n",
       "3      1.70                 55.6                 52.8                  46.0   \n",
       "4      2.30                 72.2                 49.0                  63.6   \n",
       "5      1.95                 82.6                 75.0                  70.8   \n",
       "6      2.80                 88.0                 82.0                  79.0   \n",
       "7      1.45                 92.0                 92.0                  78.6   \n",
       "\n",
       "0.05  Nonwords_Comprehension  Discource_Comprehension  Nonwords_Repetition  \\\n",
       "Age                                                                          \n",
       "3                       24.5                     30.7                 56.0   \n",
       "4                       25.0                     50.0                 75.0   \n",
       "5                       80.1                     63.0                 89.9   \n",
       "6                       79.0                     67.8                 84.6   \n",
       "7                       89.8                     88.0                 94.0   \n",
       "\n",
       "0.05  Nouns_Production  Verbs_Production  Syntax_Production  \\\n",
       "Age                                                           \n",
       "3                38.85              31.5              26.40   \n",
       "4                47.20              50.0              65.95   \n",
       "5                66.80              62.8              76.90   \n",
       "6                71.00              67.0              88.80   \n",
       "7                80.80              78.6              85.45   \n",
       "\n",
       "0.05  Syntax_Repetition       Mean  \n",
       "Age                                 \n",
       "3                 55.50  48.012500  \n",
       "4                 52.55  60.670000  \n",
       "5                 74.70  80.074306  \n",
       "6                 77.70  83.355556  \n",
       "7                 87.90  87.272222  "
      ]
     },
     "execution_count": 43,
     "metadata": {},
     "output_type": "execute_result"
    }
   ],
   "source": [
    "grouped = SQL_Query.groupby(\"Age\")    \n",
    "grouped.quantile(.05)"
   ]
  },
  {
   "cell_type": "markdown",
   "metadata": {},
   "source": [
    "Now we want to check if any of our typically developing children perform bed in all subtests of one type (production or comprehension), using the scores of the lowest 5th percentile. \n",
    "\n",
    "3 y.o (Comprehension)"
   ]
  },
  {
   "cell_type": "code",
   "execution_count": 110,
   "metadata": {},
   "outputs": [],
   "source": [
    "for row in cur.execute(\"SELECT * FROM Participants WHERE Age='3' AND Nouns_Comprehension <='55.6' AND Verbs_Comprehension <= '52.8' AND Syntax_Comprehension <= '46.0' AND Nonwords_Comprehension <= '24.5' AND Discource_Comprehension <= '30.7'\"):\n",
    "    print('Not typically developing 3 year olds in comprehension:', row)\n"
   ]
  },
  {
   "cell_type": "markdown",
   "metadata": {},
   "source": [
    "3 y.o (Production)"
   ]
  },
  {
   "cell_type": "code",
   "execution_count": 109,
   "metadata": {},
   "outputs": [],
   "source": [
    "for row in cur.execute(\"SELECT * FROM Participants WHERE Age='3' AND Nouns_Production <='38.85' AND Verbs_Production <= '31.5' AND Syntax_Production <= '26.0'\"):\n",
    "    print('Not typically developing 3 year olds in production:', row)\n"
   ]
  },
  {
   "cell_type": "markdown",
   "metadata": {},
   "source": [
    "4 y.o (Comprehension)"
   ]
  },
  {
   "cell_type": "code",
   "execution_count": 108,
   "metadata": {},
   "outputs": [],
   "source": [
    "for row in cur.execute(\"SELECT * FROM Participants WHERE Age='4' AND Nouns_Comprehension <='72.2' AND Verbs_Comprehension <= '49.0' AND Syntax_Comprehension <= '63.6' AND Nonwords_Comprehension <= '25.0' AND Discource_Comprehension <= '50.0'\"):\n",
    "    print('Not typically developing 4 year olds in comprehension:', row)\n"
   ]
  },
  {
   "cell_type": "markdown",
   "metadata": {},
   "source": [
    "4 y.o (Production)"
   ]
  },
  {
   "cell_type": "code",
   "execution_count": 107,
   "metadata": {},
   "outputs": [],
   "source": [
    "for row in cur.execute(\"SELECT * FROM Participants WHERE Age='4' AND Nouns_Production <='47.20' AND Verbs_Production <= '50.0' AND Syntax_Production <= '65.95'\"):\n",
    "    print('Not typically developing 4 year olds in production:', row)\n"
   ]
  },
  {
   "cell_type": "markdown",
   "metadata": {},
   "source": [
    "5 y.o (Comprehension)"
   ]
  },
  {
   "cell_type": "code",
   "execution_count": 106,
   "metadata": {},
   "outputs": [],
   "source": [
    "for row in cur.execute(\"SELECT * FROM Participants WHERE Age='5' AND Nouns_Comprehension <='82.6' AND Verbs_Comprehension <= '75.0' AND Syntax_Comprehension <= '70.8' AND Nonwords_Comprehension <= '80.1' AND Discource_Comprehension <= '63.0'\"):\n",
    "    print('Not typically developing 5 year olds in comprehension:', row)\n"
   ]
  },
  {
   "cell_type": "markdown",
   "metadata": {},
   "source": [
    "5 y.o (Production)"
   ]
  },
  {
   "cell_type": "code",
   "execution_count": 105,
   "metadata": {},
   "outputs": [],
   "source": [
    "for row in cur.execute(\"SELECT * FROM Participants WHERE Age='5' AND Nouns_Production <='66.80' AND Verbs_Production <= '62.8' AND Syntax_Production <= '76.9'\"):\n",
    "    print('Not typically developing 5 year olds in production:', row)"
   ]
  },
  {
   "cell_type": "markdown",
   "metadata": {},
   "source": [
    "6 y.o (Comprehension)"
   ]
  },
  {
   "cell_type": "code",
   "execution_count": 104,
   "metadata": {},
   "outputs": [],
   "source": [
    "for row in cur.execute(\"SELECT * FROM Participants WHERE Age='6' AND Nouns_Comprehension <='88.0' AND Verbs_Comprehension <= '82.0' AND Syntax_Comprehension <= '79.0' AND Nonwords_Comprehension <= '79.0' AND Discource_Comprehension <= '67.8'\"):\n",
    "    print('Not typically developing 6 year olds in comprehension:', row)\n"
   ]
  },
  {
   "cell_type": "markdown",
   "metadata": {},
   "source": [
    "6 y.o (Production)"
   ]
  },
  {
   "cell_type": "code",
   "execution_count": 103,
   "metadata": {},
   "outputs": [],
   "source": [
    "for row in cur.execute(\"SELECT * FROM Participants WHERE Age='6' AND Nouns_Production <='71.0' AND Verbs_Production <= '67.0' AND Syntax_Production <= '88.8'\"):\n",
    "    print('Not typically developing 6 year olds in production:', row)\n"
   ]
  },
  {
   "cell_type": "markdown",
   "metadata": {},
   "source": [
    "7 y.o (Comprehension)"
   ]
  },
  {
   "cell_type": "code",
   "execution_count": 102,
   "metadata": {},
   "outputs": [],
   "source": [
    "for row in cur.execute(\"SELECT * FROM Participants WHERE Age='7' AND Nouns_Comprehension <='92.0' AND Verbs_Comprehension <= '92.0' AND Syntax_Comprehension <= '78.6' AND Nonwords_Comprehension <= '89.8' AND Discource_Comprehension <= '88.0'\"):\n",
    "    print('Not typically developing 7 year olds in comprehension:', row)"
   ]
  },
  {
   "cell_type": "markdown",
   "metadata": {},
   "source": [
    "7 y.o (Production)"
   ]
  },
  {
   "cell_type": "code",
   "execution_count": 100,
   "metadata": {},
   "outputs": [],
   "source": [
    "for row in cur.execute(\"SELECT * FROM Participants WHERE Age='7' AND Nouns_Production <='80.8' AND Verbs_Production <= '78.6' AND Syntax_Production <= '85.45'\"):\n",
    "    print('Not typically developing 7 year olds in production:', row)"
   ]
  },
  {
   "cell_type": "markdown",
   "metadata": {},
   "source": [
    "Yay! Everyone's healthy. This query, of course, is not super useful here but it will be useful for the tables that contain data about not typically developing children and in that case it will be extremely comfortable to automatically identify all children who fall outside the norm in all subtests (or in all comprehension/production subtests. Also could be used for checking single-word production/comprehension, sentence production/comprehension or discource production/comprehension to see if the child has problem in that particular domains.\n"
   ]
  },
  {
   "cell_type": "markdown",
   "metadata": {},
   "source": [
    "Part 2:\n",
    "\n",
    "\n",
    "Because the previous table lacked the discourse data and so we could not analyse it, we'll need to do it separately."
   ]
  },
  {
   "cell_type": "code",
   "execution_count": 112,
   "metadata": {},
   "outputs": [
    {
     "data": {
      "text/html": [
       "<div>\n",
       "<style scoped>\n",
       "    .dataframe tbody tr th:only-of-type {\n",
       "        vertical-align: middle;\n",
       "    }\n",
       "\n",
       "    .dataframe tbody tr th {\n",
       "        vertical-align: top;\n",
       "    }\n",
       "\n",
       "    .dataframe thead th {\n",
       "        text-align: right;\n",
       "    }\n",
       "</style>\n",
       "<table border=\"1\" class=\"dataframe\">\n",
       "  <thead>\n",
       "    <tr style=\"text-align: right;\">\n",
       "      <th></th>\n",
       "      <th>ID</th>\n",
       "      <th>Age</th>\n",
       "      <th>Input</th>\n",
       "      <th>Discription</th>\n",
       "      <th>Grammar</th>\n",
       "      <th>Variety</th>\n",
       "      <th>Fastness</th>\n",
       "      <th>Total</th>\n",
       "    </tr>\n",
       "  </thead>\n",
       "  <tbody>\n",
       "    <tr>\n",
       "      <th>0</th>\n",
       "      <td>D04</td>\n",
       "      <td>7.0</td>\n",
       "      <td>На прогулку пришла девочка, она оставила свою ...</td>\n",
       "      <td>5</td>\n",
       "      <td>5</td>\n",
       "      <td>5</td>\n",
       "      <td>5</td>\n",
       "      <td>5.00</td>\n",
       "    </tr>\n",
       "    <tr>\n",
       "      <th>1</th>\n",
       "      <td>D14</td>\n",
       "      <td>7.0</td>\n",
       "      <td>На… над горо… над городом стоял ясный день. Од...</td>\n",
       "      <td>5</td>\n",
       "      <td>5</td>\n",
       "      <td>5</td>\n",
       "      <td>5</td>\n",
       "      <td>5.00</td>\n",
       "    </tr>\n",
       "    <tr>\n",
       "      <th>2</th>\n",
       "      <td>D19</td>\n",
       "      <td>7.0</td>\n",
       "      <td>Девочка выгуливала... собаку. У ближайшего дер...</td>\n",
       "      <td>5</td>\n",
       "      <td>5</td>\n",
       "      <td>5</td>\n",
       "      <td>5</td>\n",
       "      <td>5.00</td>\n",
       "    </tr>\n",
       "    <tr>\n",
       "      <th>3</th>\n",
       "      <td>D20</td>\n",
       "      <td>7.0</td>\n",
       "      <td>Вот жил-был дедушка, и у него было две дочери:...</td>\n",
       "      <td>5</td>\n",
       "      <td>5</td>\n",
       "      <td>5</td>\n",
       "      <td>4</td>\n",
       "      <td>4.75</td>\n",
       "    </tr>\n",
       "    <tr>\n",
       "      <th>4</th>\n",
       "      <td>D22</td>\n",
       "      <td>7.0</td>\n",
       "      <td>Мм, ээ. Дедуля, мм, собирал яблоки. Но когда п...</td>\n",
       "      <td>4</td>\n",
       "      <td>5</td>\n",
       "      <td>4</td>\n",
       "      <td>5</td>\n",
       "      <td>4.50</td>\n",
       "    </tr>\n",
       "  </tbody>\n",
       "</table>\n",
       "</div>"
      ],
      "text/plain": [
       "    ID  Age                                              Input Discription  \\\n",
       "0  D04  7.0  На прогулку пришла девочка, она оставила свою ...           5   \n",
       "1  D14  7.0  На… над горо… над городом стоял ясный день. Од...           5   \n",
       "2  D19  7.0  Девочка выгуливала... собаку. У ближайшего дер...           5   \n",
       "3  D20  7.0  Вот жил-был дедушка, и у него было две дочери:...           5   \n",
       "4  D22  7.0  Мм, ээ. Дедуля, мм, собирал яблоки. Но когда п...           4   \n",
       "\n",
       "  Grammar Variety Fastness  Total  \n",
       "0       5       5        5   5.00  \n",
       "1       5       5        5   5.00  \n",
       "2       5       5        5   5.00  \n",
       "3       5       5        4   4.75  \n",
       "4       5       4        5   4.50  "
      ]
     },
     "execution_count": 112,
     "metadata": {},
     "output_type": "execute_result"
    }
   ],
   "source": [
    "dr = pd.read_excel(r'D:\\Qmet_project\\Python\\Discourse_all.xlsx')\n",
    "discource = dr.to_csv (r'D:\\Qmet_project\\Python\\Discourse_all.csv', index = None, header=True)\n",
    "df = pd.read_csv(r'D:\\Qmet_project\\Python\\Discourse_all.csv', sep=',', encoding='utf-8')\n",
    "df.head()"
   ]
  },
  {
   "cell_type": "markdown",
   "metadata": {},
   "source": [
    "We strip our table of empty rows."
   ]
  },
  {
   "cell_type": "code",
   "execution_count": 113,
   "metadata": {},
   "outputs": [],
   "source": [
    "clean_df = df.dropna()"
   ]
  },
  {
   "cell_type": "markdown",
   "metadata": {},
   "source": [
    "We'll look at the lenght of every produced text and save it in a separate column."
   ]
  },
  {
   "cell_type": "code",
   "execution_count": 117,
   "metadata": {},
   "outputs": [],
   "source": [
    "from string import punctuation\n",
    "def length(text):\n",
    "    if type(text) == str:\n",
    "        text = text.lower().strip().split()\n",
    "        text = [word.strip(punctuation) for word in text]\n",
    "    return len(text)"
   ]
  },
  {
   "cell_type": "code",
   "execution_count": 118,
   "metadata": {},
   "outputs": [],
   "source": [
    "d_new = clean_df.copy()"
   ]
  },
  {
   "cell_type": "code",
   "execution_count": 119,
   "metadata": {},
   "outputs": [
    {
     "data": {
      "text/html": [
       "<div>\n",
       "<style scoped>\n",
       "    .dataframe tbody tr th:only-of-type {\n",
       "        vertical-align: middle;\n",
       "    }\n",
       "\n",
       "    .dataframe tbody tr th {\n",
       "        vertical-align: top;\n",
       "    }\n",
       "\n",
       "    .dataframe thead th {\n",
       "        text-align: right;\n",
       "    }\n",
       "</style>\n",
       "<table border=\"1\" class=\"dataframe\">\n",
       "  <thead>\n",
       "    <tr style=\"text-align: right;\">\n",
       "      <th></th>\n",
       "      <th>ID</th>\n",
       "      <th>Age</th>\n",
       "      <th>Input</th>\n",
       "      <th>Discription</th>\n",
       "      <th>Grammar</th>\n",
       "      <th>Variety</th>\n",
       "      <th>Fastness</th>\n",
       "      <th>Total</th>\n",
       "      <th>len</th>\n",
       "    </tr>\n",
       "  </thead>\n",
       "  <tbody>\n",
       "    <tr>\n",
       "      <th>0</th>\n",
       "      <td>D04</td>\n",
       "      <td>7.0</td>\n",
       "      <td>На прогулку пришла девочка, она оставила свою ...</td>\n",
       "      <td>5</td>\n",
       "      <td>5</td>\n",
       "      <td>5</td>\n",
       "      <td>5</td>\n",
       "      <td>5.00</td>\n",
       "      <td>48</td>\n",
       "    </tr>\n",
       "    <tr>\n",
       "      <th>1</th>\n",
       "      <td>D14</td>\n",
       "      <td>7.0</td>\n",
       "      <td>На… над горо… над городом стоял ясный день. Од...</td>\n",
       "      <td>5</td>\n",
       "      <td>5</td>\n",
       "      <td>5</td>\n",
       "      <td>5</td>\n",
       "      <td>5.00</td>\n",
       "      <td>94</td>\n",
       "    </tr>\n",
       "    <tr>\n",
       "      <th>2</th>\n",
       "      <td>D19</td>\n",
       "      <td>7.0</td>\n",
       "      <td>Девочка выгуливала... собаку. У ближайшего дер...</td>\n",
       "      <td>5</td>\n",
       "      <td>5</td>\n",
       "      <td>5</td>\n",
       "      <td>5</td>\n",
       "      <td>5.00</td>\n",
       "      <td>98</td>\n",
       "    </tr>\n",
       "    <tr>\n",
       "      <th>3</th>\n",
       "      <td>D20</td>\n",
       "      <td>7.0</td>\n",
       "      <td>Вот жил-был дедушка, и у него было две дочери:...</td>\n",
       "      <td>5</td>\n",
       "      <td>5</td>\n",
       "      <td>5</td>\n",
       "      <td>4</td>\n",
       "      <td>4.75</td>\n",
       "      <td>89</td>\n",
       "    </tr>\n",
       "    <tr>\n",
       "      <th>4</th>\n",
       "      <td>D22</td>\n",
       "      <td>7.0</td>\n",
       "      <td>Мм, ээ. Дедуля, мм, собирал яблоки. Но когда п...</td>\n",
       "      <td>4</td>\n",
       "      <td>5</td>\n",
       "      <td>4</td>\n",
       "      <td>5</td>\n",
       "      <td>4.50</td>\n",
       "      <td>51</td>\n",
       "    </tr>\n",
       "  </tbody>\n",
       "</table>\n",
       "</div>"
      ],
      "text/plain": [
       "    ID  Age                                              Input Discription  \\\n",
       "0  D04  7.0  На прогулку пришла девочка, она оставила свою ...           5   \n",
       "1  D14  7.0  На… над горо… над городом стоял ясный день. Од...           5   \n",
       "2  D19  7.0  Девочка выгуливала... собаку. У ближайшего дер...           5   \n",
       "3  D20  7.0  Вот жил-был дедушка, и у него было две дочери:...           5   \n",
       "4  D22  7.0  Мм, ээ. Дедуля, мм, собирал яблоки. Но когда п...           4   \n",
       "\n",
       "  Grammar Variety Fastness  Total  len  \n",
       "0       5       5        5   5.00   48  \n",
       "1       5       5        5   5.00   94  \n",
       "2       5       5        5   5.00   98  \n",
       "3       5       5        4   4.75   89  \n",
       "4       5       4        5   4.50   51  "
      ]
     },
     "execution_count": 119,
     "metadata": {},
     "output_type": "execute_result"
    }
   ],
   "source": [
    "d_new[\"len\"] = d_new[\"Input\"].apply(length)\n",
    "d_new.head()"
   ]
  },
  {
   "cell_type": "markdown",
   "metadata": {},
   "source": [
    "Now let's check the mean length in each age group."
   ]
  },
  {
   "cell_type": "code",
   "execution_count": 120,
   "metadata": {},
   "outputs": [
    {
     "data": {
      "text/html": [
       "<div>\n",
       "<style scoped>\n",
       "    .dataframe tbody tr th:only-of-type {\n",
       "        vertical-align: middle;\n",
       "    }\n",
       "\n",
       "    .dataframe tbody tr th {\n",
       "        vertical-align: top;\n",
       "    }\n",
       "\n",
       "    .dataframe thead th {\n",
       "        text-align: right;\n",
       "    }\n",
       "</style>\n",
       "<table border=\"1\" class=\"dataframe\">\n",
       "  <thead>\n",
       "    <tr style=\"text-align: right;\">\n",
       "      <th></th>\n",
       "      <th>len</th>\n",
       "    </tr>\n",
       "    <tr>\n",
       "      <th>Age</th>\n",
       "      <th></th>\n",
       "    </tr>\n",
       "  </thead>\n",
       "  <tbody>\n",
       "    <tr>\n",
       "      <th>3.0</th>\n",
       "      <td>25.277778</td>\n",
       "    </tr>\n",
       "    <tr>\n",
       "      <th>4.0</th>\n",
       "      <td>25.571429</td>\n",
       "    </tr>\n",
       "    <tr>\n",
       "      <th>5.0</th>\n",
       "      <td>33.088235</td>\n",
       "    </tr>\n",
       "    <tr>\n",
       "      <th>6.0</th>\n",
       "      <td>32.214286</td>\n",
       "    </tr>\n",
       "    <tr>\n",
       "      <th>7.0</th>\n",
       "      <td>42.000000</td>\n",
       "    </tr>\n",
       "  </tbody>\n",
       "</table>\n",
       "</div>"
      ],
      "text/plain": [
       "           len\n",
       "Age           \n",
       "3.0  25.277778\n",
       "4.0  25.571429\n",
       "5.0  33.088235\n",
       "6.0  32.214286\n",
       "7.0  42.000000"
      ]
     },
     "execution_count": 120,
     "metadata": {},
     "output_type": "execute_result"
    }
   ],
   "source": [
    "d_new.groupby([\"Age\"]).agg({\"len\": \"mean\"})"
   ]
  },
  {
   "cell_type": "code",
   "execution_count": 125,
   "metadata": {},
   "outputs": [
    {
     "data": {
      "image/png": "[encoded data removed]",
      "text/plain": [
       "<Figure size 432x288 with 1 Axes>"
      ]
     },
     "metadata": {
      "needs_background": "light"
     },
     "output_type": "display_data"
    }
   ],
   "source": [
    "d_new.groupby([\"Age\"]).agg({\"len\": \"mean\"}).plot.bar(color='pink');\n",
    "plt.title('Mean length')\n",
    "plt.xlabel('Age')\n",
    "plt.ylabel('Len in words');"
   ]
  },
  {
   "cell_type": "markdown",
   "metadata": {},
   "source": [
    "We see that as children grow older, they are able to produce longer texts."
   ]
  },
  {
   "cell_type": "code",
   "execution_count": 126,
   "metadata": {},
   "outputs": [
    {
     "data": {
      "text/html": [
       "<div>\n",
       "<style scoped>\n",
       "    .dataframe tbody tr th:only-of-type {\n",
       "        vertical-align: middle;\n",
       "    }\n",
       "\n",
       "    .dataframe tbody tr th {\n",
       "        vertical-align: top;\n",
       "    }\n",
       "\n",
       "    .dataframe thead th {\n",
       "        text-align: right;\n",
       "    }\n",
       "</style>\n",
       "<table border=\"1\" class=\"dataframe\">\n",
       "  <thead>\n",
       "    <tr style=\"text-align: right;\">\n",
       "      <th></th>\n",
       "      <th>len</th>\n",
       "    </tr>\n",
       "    <tr>\n",
       "      <th>Age</th>\n",
       "      <th></th>\n",
       "    </tr>\n",
       "  </thead>\n",
       "  <tbody>\n",
       "    <tr>\n",
       "      <th>3.0</th>\n",
       "      <td>85</td>\n",
       "    </tr>\n",
       "    <tr>\n",
       "      <th>4.0</th>\n",
       "      <td>80</td>\n",
       "    </tr>\n",
       "    <tr>\n",
       "      <th>5.0</th>\n",
       "      <td>143</td>\n",
       "    </tr>\n",
       "    <tr>\n",
       "      <th>6.0</th>\n",
       "      <td>70</td>\n",
       "    </tr>\n",
       "    <tr>\n",
       "      <th>7.0</th>\n",
       "      <td>98</td>\n",
       "    </tr>\n",
       "  </tbody>\n",
       "</table>\n",
       "</div>"
      ],
      "text/plain": [
       "     len\n",
       "Age     \n",
       "3.0   85\n",
       "4.0   80\n",
       "5.0  143\n",
       "6.0   70\n",
       "7.0   98"
      ]
     },
     "execution_count": 126,
     "metadata": {},
     "output_type": "execute_result"
    }
   ],
   "source": [
    "d_new.groupby([\"Age\"]).agg({\"len\": \"max\"})"
   ]
  },
  {
   "cell_type": "code",
   "execution_count": 127,
   "metadata": {},
   "outputs": [
    {
     "data": {
      "text/html": [
       "<div>\n",
       "<style scoped>\n",
       "    .dataframe tbody tr th:only-of-type {\n",
       "        vertical-align: middle;\n",
       "    }\n",
       "\n",
       "    .dataframe tbody tr th {\n",
       "        vertical-align: top;\n",
       "    }\n",
       "\n",
       "    .dataframe thead th {\n",
       "        text-align: right;\n",
       "    }\n",
       "</style>\n",
       "<table border=\"1\" class=\"dataframe\">\n",
       "  <thead>\n",
       "    <tr style=\"text-align: right;\">\n",
       "      <th></th>\n",
       "      <th>len</th>\n",
       "    </tr>\n",
       "    <tr>\n",
       "      <th>Age</th>\n",
       "      <th></th>\n",
       "    </tr>\n",
       "  </thead>\n",
       "  <tbody>\n",
       "    <tr>\n",
       "      <th>3.0</th>\n",
       "      <td>4</td>\n",
       "    </tr>\n",
       "    <tr>\n",
       "      <th>4.0</th>\n",
       "      <td>10</td>\n",
       "    </tr>\n",
       "    <tr>\n",
       "      <th>5.0</th>\n",
       "      <td>14</td>\n",
       "    </tr>\n",
       "    <tr>\n",
       "      <th>6.0</th>\n",
       "      <td>9</td>\n",
       "    </tr>\n",
       "    <tr>\n",
       "      <th>7.0</th>\n",
       "      <td>12</td>\n",
       "    </tr>\n",
       "  </tbody>\n",
       "</table>\n",
       "</div>"
      ],
      "text/plain": [
       "     len\n",
       "Age     \n",
       "3.0    4\n",
       "4.0   10\n",
       "5.0   14\n",
       "6.0    9\n",
       "7.0   12"
      ]
     },
     "execution_count": 127,
     "metadata": {},
     "output_type": "execute_result"
    }
   ],
   "source": [
    "d_new.groupby([\"Age\"]).agg({\"len\": \"min\"})"
   ]
  },
  {
   "cell_type": "markdown",
   "metadata": {},
   "source": [
    "We see that there is a great difference between the max and min values, therefore we should look at the texts with min values to see if they're worth considering."
   ]
  },
  {
   "cell_type": "markdown",
   "metadata": {},
   "source": [
    "Conslusion:\n",
    "\n",
    "Our data seems quite consistent across all age groups and subtests and it seems reliable. However, we still need more data to equalize all age and gender groups plus we need to check some children with extremely low points (for older ages) to make sure that they fall within the norm and that we can include them in our typically developing data. "
   ]
  },
  {
   "cell_type": "markdown",
   "metadata": {},
   "source": [
    "Unfortunately, we couldn't come up with anything else that  could be checked here. We're sorry, if that's not enough for a project for two students. :("
   ]
  }
 ],
 "metadata": {
  "kernelspec": {
   "display_name": "Python 3",
   "language": "python",
   "name": "python3"
  },
  "language_info": {
   "codemirror_mode": {
    "name": "ipython",
    "version": 3
   },
   "file_extension": ".py",
   "mimetype": "text/x-python",
   "name": "python",
   "nbconvert_exporter": "python",
   "pygments_lexer": "ipython3",
   "version": "3.7.3"
  }
 },
 "nbformat": 4,
 "nbformat_minor": 2
}
