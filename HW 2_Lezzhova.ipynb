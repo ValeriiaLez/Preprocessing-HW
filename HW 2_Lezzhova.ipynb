{
 "cells": [
  {
   "cell_type": "markdown",
   "metadata": {},
   "source": [
    "# Homework 2"
   ]
  },
  {
   "cell_type": "markdown",
   "metadata": {},
   "source": [
    "1. Create a database with a least two tables and save your data in it (3 points: 2 points for the code that creates a database and the .db file and 1 point for your commentary about the architecture of the database and why it fits your data)"
   ]
  },
  {
   "cell_type": "markdown",
   "metadata": {},
   "source": [
    "I will use 2 tables of the results of the KORABLIK standartized language test. One table is for 12 children with SLI (specific language impairment) and the second one is for the controls (typically developing children). Both tables contain scores of 6 battery's subtests:\n",
    "NC - Nouns comprehension;\n",
    "VC - Verbs comprehension;\n",
    "SC - Syntax comprehension;\n",
    "NR - Nonwords repetition;\n",
    "NP - Nouns Production;\n",
    "VP - Verbs Production.\n",
    "\n",
    "Other than the scores, the tables also provide information on participants' age, sex, the group they belong to, as well as their personal IDs. \n",
    "All the scores are in percentage. "
   ]
  },
  {
   "cell_type": "code",
   "execution_count": 1,
   "metadata": {},
   "outputs": [],
   "source": [
    "import pandas as pd\n",
    "import csv\n",
    "import sqlite3"
   ]
  },
  {
   "cell_type": "code",
   "execution_count": 103,
   "metadata": {},
   "outputs": [],
   "source": [
    "read_file = pd.read_excel (r'D:\\Qmet_project\\Python\\Controls.xlsx')\n",
    "Controls_csv = read_file.to_csv (r'D:\\Qmet_project\\Python\\Controls.csv', index = None, header=True)"
   ]
  },
  {
   "cell_type": "code",
   "execution_count": 104,
   "metadata": {},
   "outputs": [],
   "source": [
    "df_Controls = pd.read_csv('D:\\Qmet_project\\Python\\Controls.csv', sep=',', encoding='utf-8')"
   ]
  },
  {
   "cell_type": "code",
   "execution_count": 105,
   "metadata": {},
   "outputs": [
    {
     "data": {
      "text/html": [
       "<div>\n",
       "<style scoped>\n",
       "    .dataframe tbody tr th:only-of-type {\n",
       "        vertical-align: middle;\n",
       "    }\n",
       "\n",
       "    .dataframe tbody tr th {\n",
       "        vertical-align: top;\n",
       "    }\n",
       "\n",
       "    .dataframe thead th {\n",
       "        text-align: right;\n",
       "    }\n",
       "</style>\n",
       "<table border=\"1\" class=\"dataframe\">\n",
       "  <thead>\n",
       "    <tr style=\"text-align: right;\">\n",
       "      <th></th>\n",
       "      <th>ID</th>\n",
       "      <th>Sex</th>\n",
       "      <th>Age</th>\n",
       "      <th>NC</th>\n",
       "      <th>VC</th>\n",
       "      <th>SC</th>\n",
       "      <th>NR</th>\n",
       "      <th>NP</th>\n",
       "      <th>VP</th>\n",
       "      <th>Groups</th>\n",
       "    </tr>\n",
       "  </thead>\n",
       "  <tbody>\n",
       "    <tr>\n",
       "      <th>0</th>\n",
       "      <td>N840</td>\n",
       "      <td>m</td>\n",
       "      <td>4,5</td>\n",
       "      <td>88</td>\n",
       "      <td>79</td>\n",
       "      <td>83</td>\n",
       "      <td>63</td>\n",
       "      <td>69</td>\n",
       "      <td>96</td>\n",
       "      <td>Controls</td>\n",
       "    </tr>\n",
       "    <tr>\n",
       "      <th>1</th>\n",
       "      <td>N304</td>\n",
       "      <td>m</td>\n",
       "      <td>4</td>\n",
       "      <td>83</td>\n",
       "      <td>96</td>\n",
       "      <td>71</td>\n",
       "      <td>88</td>\n",
       "      <td>56</td>\n",
       "      <td>75</td>\n",
       "      <td>Controls</td>\n",
       "    </tr>\n",
       "    <tr>\n",
       "      <th>2</th>\n",
       "      <td>N700</td>\n",
       "      <td>f</td>\n",
       "      <td>4</td>\n",
       "      <td>88</td>\n",
       "      <td>92</td>\n",
       "      <td>88</td>\n",
       "      <td>38</td>\n",
       "      <td>50</td>\n",
       "      <td>58</td>\n",
       "      <td>Controls</td>\n",
       "    </tr>\n",
       "    <tr>\n",
       "      <th>3</th>\n",
       "      <td>N403</td>\n",
       "      <td>f</td>\n",
       "      <td>5</td>\n",
       "      <td>88</td>\n",
       "      <td>100</td>\n",
       "      <td>96</td>\n",
       "      <td>88</td>\n",
       "      <td>81</td>\n",
       "      <td>75</td>\n",
       "      <td>Controls</td>\n",
       "    </tr>\n",
       "    <tr>\n",
       "      <th>4</th>\n",
       "      <td>N303</td>\n",
       "      <td>m</td>\n",
       "      <td>4,5</td>\n",
       "      <td>100</td>\n",
       "      <td>75</td>\n",
       "      <td>88</td>\n",
       "      <td>96</td>\n",
       "      <td>88</td>\n",
       "      <td>88</td>\n",
       "      <td>Controls</td>\n",
       "    </tr>\n",
       "  </tbody>\n",
       "</table>\n",
       "</div>"
      ],
      "text/plain": [
       "     ID Sex  Age   NC   VC  SC  NR  NP  VP    Groups\n",
       "0  N840   m  4,5   88   79  83  63  69  96  Controls\n",
       "1  N304   m    4   83   96  71  88  56  75  Controls\n",
       "2  N700   f    4   88   92  88  38  50  58  Controls\n",
       "3  N403   f    5   88  100  96  88  81  75  Controls\n",
       "4  N303   m  4,5  100   75  88  96  88  88  Controls"
      ]
     },
     "execution_count": 105,
     "metadata": {},
     "output_type": "execute_result"
    }
   ],
   "source": [
    "df_Controls.head()"
   ]
  },
  {
   "cell_type": "code",
   "execution_count": 106,
   "metadata": {},
   "outputs": [],
   "source": [
    "read_file = pd.read_excel (r'D:\\Qmet_project\\Python\\SLI.xlsx')\n",
    "SLI_csv = read_file.to_csv (r'D:\\Qmet_project\\Python\\SLI.csv', index = None, header=True)"
   ]
  },
  {
   "cell_type": "code",
   "execution_count": 107,
   "metadata": {},
   "outputs": [],
   "source": [
    "df_SLI = pd.read_csv('D:\\Qmet_project\\Python\\SLI.csv', sep=',', encoding='utf-8')"
   ]
  },
  {
   "cell_type": "code",
   "execution_count": 108,
   "metadata": {},
   "outputs": [
    {
     "data": {
      "text/html": [
       "<div>\n",
       "<style scoped>\n",
       "    .dataframe tbody tr th:only-of-type {\n",
       "        vertical-align: middle;\n",
       "    }\n",
       "\n",
       "    .dataframe tbody tr th {\n",
       "        vertical-align: top;\n",
       "    }\n",
       "\n",
       "    .dataframe thead th {\n",
       "        text-align: right;\n",
       "    }\n",
       "</style>\n",
       "<table border=\"1\" class=\"dataframe\">\n",
       "  <thead>\n",
       "    <tr style=\"text-align: right;\">\n",
       "      <th></th>\n",
       "      <th>ID</th>\n",
       "      <th>Sex</th>\n",
       "      <th>Age</th>\n",
       "      <th>NC</th>\n",
       "      <th>VC</th>\n",
       "      <th>SC</th>\n",
       "      <th>NR</th>\n",
       "      <th>NP</th>\n",
       "      <th>VP</th>\n",
       "      <th>Groups</th>\n",
       "    </tr>\n",
       "  </thead>\n",
       "  <tbody>\n",
       "    <tr>\n",
       "      <th>0</th>\n",
       "      <td>N510</td>\n",
       "      <td>m</td>\n",
       "      <td>4,5</td>\n",
       "      <td>92</td>\n",
       "      <td>79</td>\n",
       "      <td>75</td>\n",
       "      <td>73</td>\n",
       "      <td>79</td>\n",
       "      <td>79</td>\n",
       "      <td>SLI</td>\n",
       "    </tr>\n",
       "    <tr>\n",
       "      <th>1</th>\n",
       "      <td>N512</td>\n",
       "      <td>m</td>\n",
       "      <td>5</td>\n",
       "      <td>92</td>\n",
       "      <td>96</td>\n",
       "      <td>0</td>\n",
       "      <td>69</td>\n",
       "      <td>58</td>\n",
       "      <td>63</td>\n",
       "      <td>SLI</td>\n",
       "    </tr>\n",
       "    <tr>\n",
       "      <th>2</th>\n",
       "      <td>N515</td>\n",
       "      <td>f</td>\n",
       "      <td>4,5</td>\n",
       "      <td>88</td>\n",
       "      <td>88</td>\n",
       "      <td>67</td>\n",
       "      <td>94</td>\n",
       "      <td>58</td>\n",
       "      <td>67</td>\n",
       "      <td>SLI</td>\n",
       "    </tr>\n",
       "    <tr>\n",
       "      <th>3</th>\n",
       "      <td>N516</td>\n",
       "      <td>f</td>\n",
       "      <td>4,5</td>\n",
       "      <td>75</td>\n",
       "      <td>0</td>\n",
       "      <td>79</td>\n",
       "      <td>77</td>\n",
       "      <td>33</td>\n",
       "      <td>46</td>\n",
       "      <td>SLI</td>\n",
       "    </tr>\n",
       "    <tr>\n",
       "      <th>4</th>\n",
       "      <td>N517</td>\n",
       "      <td>m</td>\n",
       "      <td>4</td>\n",
       "      <td>63</td>\n",
       "      <td>54</td>\n",
       "      <td>38</td>\n",
       "      <td>29</td>\n",
       "      <td>25</td>\n",
       "      <td>0</td>\n",
       "      <td>SLI</td>\n",
       "    </tr>\n",
       "  </tbody>\n",
       "</table>\n",
       "</div>"
      ],
      "text/plain": [
       "     ID Sex  Age  NC  VC  SC  NR  NP  VP Groups\n",
       "0  N510   m  4,5  92  79  75  73  79  79    SLI\n",
       "1  N512   m    5  92  96   0  69  58  63    SLI\n",
       "2  N515   f  4,5  88  88  67  94  58  67    SLI\n",
       "3  N516   f  4,5  75   0  79  77  33  46    SLI\n",
       "4  N517   m    4  63  54  38  29  25   0    SLI"
      ]
     },
     "execution_count": 108,
     "metadata": {},
     "output_type": "execute_result"
    }
   ],
   "source": [
    "df_SLI.head()"
   ]
  },
  {
   "cell_type": "code",
   "execution_count": 87,
   "metadata": {},
   "outputs": [],
   "source": [
    "con = sqlite3.connect(\"Participants.db\")\n",
    "cur = con.cursor()"
   ]
  },
  {
   "cell_type": "code",
   "execution_count": 88,
   "metadata": {},
   "outputs": [],
   "source": [
    "df_Controls.to_sql(name='Participants', con=con, if_exists='replace')"
   ]
  },
  {
   "cell_type": "code",
   "execution_count": 89,
   "metadata": {},
   "outputs": [],
   "source": [
    "#adding second table's data to the first one\n",
    "df_SLI.to_sql(name='Participants', con=con, if_exists='append')"
   ]
  },
  {
   "cell_type": "code",
   "execution_count": 110,
   "metadata": {},
   "outputs": [],
   "source": [
    "con.commit()"
   ]
  },
  {
   "cell_type": "code",
   "execution_count": 111,
   "metadata": {},
   "outputs": [
    {
     "name": "stdout",
     "output_type": "stream",
     "text": [
      "(0, 'N840', 'm', '4,5', 88, 79, 83, 63, 69, 96, 'Controls')\n",
      "(1, 'N304', 'm', '4', 83, 96, 71, 88, 56, 75, 'Controls')\n",
      "(2, 'N700', 'f', '4', 88, 92, 88, 38, 50, 58, 'Controls')\n",
      "(3, 'N403', 'f', '5', 88, 100, 96, 88, 81, 75, 'Controls')\n",
      "(4, 'N303', 'm', '4,5', 100, 75, 88, 96, 88, 88, 'Controls')\n",
      "(5, 'N204', 'f', '5', 83, 88, 67, 100, 75, 71, 'Controls')\n",
      "(6, 'N216', 'f', '5', 100, 92, 92, 100, 88, 83, 'Controls')\n",
      "(7, 'N217', 'm', '5', 96, 83, 96, 96, 81, 83, 'Controls')\n",
      "(8, 'N405', 'f', '6', 92, 96, 83, 96, 63, 75, 'Controls')\n",
      "(9, 'N302', 'm', '6', 100, 88, 92, 88, 94, 88, 'Controls')\n",
      "(10, 'N362', 'f', '4', 96, 100, 92, 92, 88, 71, 'Controls')\n",
      "(11, 'N719', 'f', '4,5', 88, 88, 88, 100, 88, 71, 'Controls')\n",
      "(0, 'N510', 'm', '4,5', 92, 79, 75, 73, 79, 79, 'SLI')\n",
      "(1, 'N512', 'm', '5', 92, 96, 0, 69, 58, 63, 'SLI')\n",
      "(2, 'N515', 'f', '4,5', 88, 88, 67, 94, 58, 67, 'SLI')\n",
      "(3, 'N516', 'f', '4,5', 75, 0, 79, 77, 33, 46, 'SLI')\n",
      "(4, 'N517', 'm', '4', 63, 54, 38, 29, 25, 0, 'SLI')\n",
      "(5, 'N518', 'm', '4,5', 92, 92, 58, 50, 0, 0, 'SLI')\n",
      "(6, 'N519', 'f', '4,5', 92, 83, 46, 0, 54, 54, 'SLI')\n",
      "(7, 'N520', 'f', '5', 83, 75, 75, 81, 67, 79, 'SLI')\n",
      "(8, 'N511', 'm', '5', 96, 100, 92, 90, 71, 83, 'SLI')\n",
      "(9, 'N514', 'm', '4,5', 83, 100, 96, 52, 58, 67, 'SLI')\n",
      "(10, 'N521', 'f', '7', 88, 83, 83, 94, 92, 92, 'SLI')\n",
      "(11, 'N522', 'm ', '6', 83, 92, 63, 92, 83, 71, 'SLI')\n"
     ]
    }
   ],
   "source": [
    "for row in cur.execute('SELECT * FROM Participants'):\n",
    "    print(row)"
   ]
  },
  {
   "cell_type": "markdown",
   "metadata": {},
   "source": [
    "2. Provide six different queries to your database (3 points: 1.5 points for the six queries and 1.5 points for your comments about what the queries aim to achieve)"
   ]
  },
  {
   "cell_type": "markdown",
   "metadata": {},
   "source": [
    "1) Extracting all the data for participants who are males "
   ]
  },
  {
   "cell_type": "code",
   "execution_count": 91,
   "metadata": {},
   "outputs": [
    {
     "name": "stdout",
     "output_type": "stream",
     "text": [
      "[(2, 'N700', 'f', '4', 88, 92, 88, 38, 50, 58, 'Controls'), (3, 'N403', 'f', '5', 88, 100, 96, 88, 81, 75, 'Controls'), (5, 'N204', 'f', '5', 83, 88, 67, 100, 75, 71, 'Controls'), (6, 'N216', 'f', '5', 100, 92, 92, 100, 88, 83, 'Controls'), (8, 'N405', 'f', '6', 92, 96, 83, 96, 63, 75, 'Controls'), (10, 'N362', 'f', '4', 96, 100, 92, 92, 88, 71, 'Controls'), (11, 'N719', 'f', '4,5', 88, 88, 88, 100, 88, 71, 'Controls'), (2, 'N515', 'f', '4,5', 88, 88, 67, 94, 58, 67, 'SLI'), (3, 'N516', 'f', '4,5', 75, 0, 79, 77, 33, 46, 'SLI'), (6, 'N519', 'f', '4,5', 92, 83, 46, 0, 54, 54, 'SLI'), (7, 'N520', 'f', '5', 83, 75, 75, 81, 67, 79, 'SLI'), (10, 'N521', 'f', '7', 88, 83, 83, 94, 92, 92, 'SLI')]\n"
     ]
    }
   ],
   "source": [
    "cur.execute('SELECT * FROM Participants WHERE Sex=\"f\"')\n",
    "print(cur.fetchall())"
   ]
  },
  {
   "cell_type": "markdown",
   "metadata": {},
   "source": [
    "2) Ordering information for Nouns comprehension subtest of SLI children in the descending order (for better representation, easier to analyse that way)"
   ]
  },
  {
   "cell_type": "code",
   "execution_count": 118,
   "metadata": {},
   "outputs": [
    {
     "name": "stdout",
     "output_type": "stream",
     "text": [
      "('N511', '5', 96)\n",
      "('N510', '4,5', 92)\n",
      "('N512', '5', 92)\n",
      "('N518', '4,5', 92)\n",
      "('N519', '4,5', 92)\n",
      "('N515', '4,5', 88)\n",
      "('N521', '7', 88)\n",
      "('N520', '5', 83)\n",
      "('N514', '4,5', 83)\n",
      "('N522', '6', 83)\n",
      "('N516', '4,5', 75)\n",
      "('N517', '4', 63)\n"
     ]
    }
   ],
   "source": [
    "for i in con.execute(\"SELECT ID, Age, NC FROM Participants WHERE Groups ='SLI' ORDER BY NC DESC\"):\n",
    "    print(i)"
   ]
  },
  {
   "cell_type": "markdown",
   "metadata": {},
   "source": [
    "3) Extracting participants with particular parameteres (very useful if we have a big data and want to find participants, who are, for example, not in the norm -based on the language scores- in several or all subtests)"
   ]
  },
  {
   "cell_type": "code",
   "execution_count": 93,
   "metadata": {},
   "outputs": [
    {
     "name": "stdout",
     "output_type": "stream",
     "text": [
      "(11, 'N522', 'm ', '6', 83, 92, 63, 92, 83, 71, 'SLI')\n"
     ]
    }
   ],
   "source": [
    "for i in cur.execute(\"SELECT * FROM Participants WHERE Age='6' AND Groups='SLI' AND NP >= 50\"):\n",
    "    print(i)"
   ]
  },
  {
   "cell_type": "markdown",
   "metadata": {},
   "source": [
    "4) Finding the average score for nouns production subtest for each group"
   ]
  },
  {
   "cell_type": "code",
   "execution_count": 94,
   "metadata": {},
   "outputs": [
    {
     "name": "stdout",
     "output_type": "stream",
     "text": [
      "('Controls', 76.75)\n",
      "('SLI', 56.5)\n"
     ]
    }
   ],
   "source": [
    "for i in con.execute('SELECT Groups, AVG(NP) AS NP_Score FROM Participants GROUP BY Groups'):\n",
    "    print(i)"
   ]
  },
  {
   "cell_type": "markdown",
   "metadata": {},
   "source": [
    "5) Extracting all the information relevant to a particular participant\n"
   ]
  },
  {
   "cell_type": "code",
   "execution_count": 95,
   "metadata": {},
   "outputs": [
    {
     "name": "stdout",
     "output_type": "stream",
     "text": [
      "[(0, 'N840', 'm', '4,5', 88, 79, 83, 63, 69, 96, 'Controls')]\n"
     ]
    }
   ],
   "source": [
    "cur.execute('SELECT * FROM Participants WHERE ID =\"N840\"')\n",
    "print(cur.fetchall())"
   ]
  },
  {
   "cell_type": "markdown",
   "metadata": {},
   "source": [
    "6) Finding total score in all subtests for a particular participant (if we want to evaluate an overall performance relative to the maximum score) -- of course this query would be more useful for the tables with actual test's score and not with percentages"
   ]
  },
  {
   "cell_type": "code",
   "execution_count": 99,
   "metadata": {},
   "outputs": [
    {
     "name": "stdout",
     "output_type": "stream",
     "text": [
      "('N840', 478)\n"
     ]
    }
   ],
   "source": [
    "for i in con.execute('SELECT ID, SUM(NC+VC+SC+NR+NP+VP) AS Total_score FROM Participants WHERE ID=\"N840\"'):\n",
    "    print(i)"
   ]
  },
  {
   "cell_type": "markdown",
   "metadata": {},
   "source": [
    "Draw four different plots depicting your data (4 points: 2 points for the four plots, and 2 points for the comments about the types of plots you selected, your discussion of the results)"
   ]
  },
  {
   "cell_type": "code",
   "execution_count": 150,
   "metadata": {},
   "outputs": [
    {
     "name": "stdout",
     "output_type": "stream",
     "text": [
      "     Sex  Age     NC     VC    SC     NR    NP    VP    Groups\n",
      "ID                                                            \n",
      "N204   f    5   83.0   88.0  67.0  100.0  75.0  71.0  Controls\n",
      "N216   f    5  100.0   92.0  92.0  100.0  88.0  83.0  Controls\n",
      "N217   m    5   96.0   83.0  96.0   96.0  81.0  83.0  Controls\n",
      "N302   m    6  100.0   88.0  92.0   88.0  94.0  88.0  Controls\n",
      "N303   m  4,5  100.0   75.0  88.0   96.0  88.0  88.0  Controls\n",
      "N304   m    4   83.0   96.0  71.0   88.0  56.0  75.0  Controls\n",
      "N362   f    4   96.0  100.0  92.0   92.0  88.0  71.0  Controls\n",
      "N403   f    5   88.0  100.0  96.0   88.0  81.0  75.0  Controls\n",
      "N405   f    6   92.0   96.0  83.0   96.0  63.0  75.0  Controls\n",
      "N510   m  4,5   92.0   79.0  75.0   73.0  79.0  79.0       SLI\n",
      "N511   m    5   96.0  100.0  92.0   90.0  71.0  83.0       SLI\n",
      "N512   m    5   92.0   96.0   0.0   69.0  58.0  63.0       SLI\n",
      "N514   m  4,5   83.0  100.0  96.0   52.0  58.0  67.0       SLI\n",
      "N515   f  4,5   88.0   88.0  67.0   94.0  58.0  67.0       SLI\n",
      "N516   f  4,5   75.0    0.0  79.0   77.0  33.0  46.0       SLI\n",
      "N517   m    4   63.0   54.0  38.0   29.0  25.0   0.0       SLI\n",
      "N518   m  4,5   92.0   92.0  58.0   50.0   0.0   0.0       SLI\n",
      "N519   f  4,5   92.0   83.0  46.0    0.0  54.0  54.0       SLI\n",
      "N520   f    5   83.0   75.0  75.0   81.0  67.0  79.0       SLI\n",
      "N521   f    7   88.0   83.0  83.0   94.0  92.0  92.0       SLI\n",
      "N522  m     6   83.0   92.0  63.0   92.0  83.0  71.0       SLI\n",
      "N700   f    4   88.0   92.0  88.0   38.0  50.0  58.0  Controls\n",
      "N719   f  4,5   88.0   88.0  88.0  100.0  88.0  71.0  Controls\n",
      "N840   m  4,5   88.0   79.0  83.0   63.0  69.0  96.0  Controls\n"
     ]
    }
   ],
   "source": [
    "#I first should join to tables together, since before I have done it on the to_sql step\n",
    "\n",
    "df1 = pd.read_csv(r'D:\\Qmet_project\\Python\\Controls.csv')\n",
    "df2 = pd.read_csv(r'D:\\Qmet_project\\Python\\SLI.csv')\n",
    "merged = df1.set_index('ID').combine_first(df2.set_index('ID'))\n",
    "print(merged)"
   ]
  },
  {
   "cell_type": "code",
   "execution_count": 155,
   "metadata": {},
   "outputs": [],
   "source": [
    "import matplotlib.pyplot as plt\n",
    "%matplotlib inline\n",
    "import seaborn as sns\n",
    "import random"
   ]
  },
  {
   "cell_type": "markdown",
   "metadata": {},
   "source": [
    "First, let's see the gender ratio of our data, using simple barplot. We use two separate tables for that and create two separate barplots for each group."
   ]
  },
  {
   "cell_type": "code",
   "execution_count": 170,
   "metadata": {},
   "outputs": [
    {
     "data": {
      "image/png": "[encoded data removed]",
      "text/plain": [
       "<Figure size 432x288 with 1 Axes>"
      ]
     },
     "metadata": {
      "needs_background": "light"
     },
     "output_type": "display_data"
    }
   ],
   "source": [
    "df1['Sex'].value_counts().plot.bar(color='green'); \n",
    "plt.title('Controls')\n",
    "plt.xlabel('gender')\n",
    "plt.ylabel('number of entries');"
   ]
  },
  {
   "cell_type": "code",
   "execution_count": 171,
   "metadata": {},
   "outputs": [
    {
     "data": {
      "image/png": "[encoded data removed]",
      "text/plain": [
       "<Figure size 432x288 with 1 Axes>"
      ]
     },
     "metadata": {
      "needs_background": "light"
     },
     "output_type": "display_data"
    }
   ],
   "source": [
    "df2['Sex'].value_counts().plot.bar(color='green'); \n",
    "plt.title('SLI')\n",
    "plt.xlabel('gender')\n",
    "plt.ylabel('number of entries');"
   ]
  },
  {
   "cell_type": "markdown",
   "metadata": {},
   "source": [
    "Here we can each group has different numbers boys and girls in it and in each group the difference equals 2, which is not bad but, considering that our data is very small it would be better to equalise the number of boys and girls in each group. (we also can see that, for some reason, one m in SLI group was identified as a separate category. The reason for that is a complete mystery for me)"
   ]
  },
  {
   "cell_type": "markdown",
   "metadata": {},
   "source": [
    "Now, let's visualize and see if we have equal amount of healthy and clinical participants, using pie chart."
   ]
  },
  {
   "cell_type": "code",
   "execution_count": 176,
   "metadata": {},
   "outputs": [
    {
     "data": {
      "image/png": "[encoded data removed]",
      "text/plain": [
       "<Figure size 432x432 with 1 Axes>"
      ]
     },
     "metadata": {},
     "output_type": "display_data"
    }
   ],
   "source": [
    "plt.figure(figsize=(6, 6))\n",
    "merged['Groups'].value_counts().plot(kind='pie');\n",
    "plt.title('Groups');"
   ]
  },
  {
   "cell_type": "markdown",
   "metadata": {},
   "source": [
    "Here our ratio is 50/50, which is very important for the more accurate results of the analysis."
   ]
  },
  {
   "cell_type": "markdown",
   "metadata": {},
   "source": [
    "Second, we will see the differences between two groups, using the box plot."
   ]
  },
  {
   "cell_type": "code",
   "execution_count": 163,
   "metadata": {},
   "outputs": [
    {
     "data": {
      "image/png": "[encoded data removed]",
      "text/plain": [
       "<Figure size 720x432 with 1 Axes>"
      ]
     },
     "metadata": {
      "needs_background": "light"
     },
     "output_type": "display_data"
    }
   ],
   "source": [
    "plt.figure(figsize=(10, 6))\n",
    "sns.boxplot(x=\"Groups\", y=\"NC\", data=merged)\n",
    "plt.ylim((0, 100))\n",
    "plt.title('Nouns comprehension')\n",
    "plt.ylabel('Scores')\n",
    "plt.xlabel('Groups');"
   ]
  },
  {
   "cell_type": "markdown",
   "metadata": {},
   "source": [
    "We can see that overall scores of children of our clinical group is lower that our healthy group, their average is also lower. We also can see the highest and the lowest results of both groups and they are also representative. On this barplot we can also see an outlier participant, who's score is significantly different from the other participant in SLI group."
   ]
  },
  {
   "cell_type": "markdown",
   "metadata": {},
   "source": [
    "Unfortunately, this particular table does not have any verbal information for the visualization with words, so I use a barplot type once more.\n",
    "Let's visualize and see what age groups we have and how many participants of each age group is there (on a whole for both groups). "
   ]
  },
  {
   "cell_type": "code",
   "execution_count": 177,
   "metadata": {},
   "outputs": [
    {
     "data": {
      "image/png": "[encoded data removed]",
      "text/plain": [
       "<Figure size 432x288 with 1 Axes>"
      ]
     },
     "metadata": {
      "needs_background": "light"
     },
     "output_type": "display_data"
    }
   ],
   "source": [
    "merged['Age'].value_counts().plot.bar(color='green'); \n",
    "plt.title('SLI')\n",
    "plt.xlabel('gender')\n",
    "plt.ylabel('number of entries');"
   ]
  },
  {
   "cell_type": "markdown",
   "metadata": {},
   "source": [
    "As we can see, each age group is represented completely different. 4,5 y.o. kids and much more numerous than 6 y.o. and there is only one 7 y.o., which is a very bad thing, since that would really influence the cumulative analysis, while comparing two groups. "
   ]
  },
  {
   "cell_type": "markdown",
   "metadata": {},
   "source": [
    "**Final project**\n",
    "\n",
    "Unfortunately, I still have absolutely zero idea about what I want to do for the final project (lack of imagination definitely does not help me here). I also do not quite know what would be enough to do for the final project, so I will reach you soon to discuss that matter. "
   ]
  },
  {
   "cell_type": "code",
   "execution_count": null,
   "metadata": {},
   "outputs": [],
   "source": []
  }
 ],
 "metadata": {
  "kernelspec": {
   "display_name": "Python 3",
   "language": "python",
   "name": "python3"
  },
  "language_info": {
   "codemirror_mode": {
    "name": "ipython",
    "version": 3
   },
   "file_extension": ".py",
   "mimetype": "text/x-python",
   "name": "python",
   "nbconvert_exporter": "python",
   "pygments_lexer": "ipython3",
   "version": "3.7.3"
  }
 },
 "nbformat": 4,
 "nbformat_minor": 2
}
